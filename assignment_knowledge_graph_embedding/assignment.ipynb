{
  "nbformat": 4,
  "nbformat_minor": 0,
  "metadata": {
    "kernelspec": {
      "display_name": "Python 3",
      "language": "python",
      "name": "python3"
    },
    "language_info": {
      "codemirror_mode": {
        "name": "ipython",
        "version": 3
      },
      "file_extension": ".py",
      "mimetype": "text/x-python",
      "name": "python",
      "nbconvert_exporter": "python",
      "pygments_lexer": "ipython3",
      "version": "3.7.4"
    },
    "colab": {
      "name": "assignment.ipynb",
      "provenance": [],
      "include_colab_link": true
    },
    "widgets": {
      "application/vnd.jupyter.widget-state+json": {
        "bfc5d24ad3b444e4b0d2a39e7fab5f4b": {
          "model_module": "@jupyter-widgets/controls",
          "model_name": "HBoxModel",
          "state": {
            "_view_name": "HBoxView",
            "_dom_classes": [],
            "_model_name": "HBoxModel",
            "_view_module": "@jupyter-widgets/controls",
            "_model_module_version": "1.5.0",
            "_view_count": null,
            "_view_module_version": "1.5.0",
            "box_style": "",
            "layout": "IPY_MODEL_7858366c64be4e13ae5d367b6546ccb8",
            "_model_module": "@jupyter-widgets/controls",
            "children": [
              "IPY_MODEL_56d7da15aabc4fe6849fc8472d65d243",
              "IPY_MODEL_fffb2cf7c90f4cccb159d20f468a23b4"
            ]
          }
        },
        "7858366c64be4e13ae5d367b6546ccb8": {
          "model_module": "@jupyter-widgets/base",
          "model_name": "LayoutModel",
          "state": {
            "_view_name": "LayoutView",
            "grid_template_rows": null,
            "right": null,
            "justify_content": null,
            "_view_module": "@jupyter-widgets/base",
            "overflow": null,
            "_model_module_version": "1.2.0",
            "_view_count": null,
            "flex_flow": null,
            "width": null,
            "min_width": null,
            "border": null,
            "align_items": null,
            "bottom": null,
            "_model_module": "@jupyter-widgets/base",
            "top": null,
            "grid_column": null,
            "overflow_y": null,
            "overflow_x": null,
            "grid_auto_flow": null,
            "grid_area": null,
            "grid_template_columns": null,
            "flex": null,
            "_model_name": "LayoutModel",
            "justify_items": null,
            "grid_row": null,
            "max_height": null,
            "align_content": null,
            "visibility": null,
            "align_self": null,
            "height": null,
            "min_height": null,
            "padding": null,
            "grid_auto_rows": null,
            "grid_gap": null,
            "max_width": null,
            "order": null,
            "_view_module_version": "1.2.0",
            "grid_template_areas": null,
            "object_position": null,
            "object_fit": null,
            "grid_auto_columns": null,
            "margin": null,
            "display": null,
            "left": null
          }
        },
        "56d7da15aabc4fe6849fc8472d65d243": {
          "model_module": "@jupyter-widgets/controls",
          "model_name": "FloatProgressModel",
          "state": {
            "_view_name": "ProgressView",
            "style": "IPY_MODEL_2a98e25e657646759bb8f1579dee4e55",
            "_dom_classes": [],
            "description": "Epoch 200 | mean loss: 0.03357: 100%",
            "_model_name": "FloatProgressModel",
            "bar_style": "success",
            "max": 200,
            "_view_module": "@jupyter-widgets/controls",
            "_model_module_version": "1.5.0",
            "value": 200,
            "_view_count": null,
            "_view_module_version": "1.5.0",
            "orientation": "horizontal",
            "min": 0,
            "description_tooltip": null,
            "_model_module": "@jupyter-widgets/controls",
            "layout": "IPY_MODEL_2acafee2d02b4816a4ad8e9bf999da5c"
          }
        },
        "fffb2cf7c90f4cccb159d20f468a23b4": {
          "model_module": "@jupyter-widgets/controls",
          "model_name": "HTMLModel",
          "state": {
            "_view_name": "HTMLView",
            "style": "IPY_MODEL_39be8949a1ef41ad86a2ba74baca2ba2",
            "_dom_classes": [],
            "description": "",
            "_model_name": "HTMLModel",
            "placeholder": "​",
            "_view_module": "@jupyter-widgets/controls",
            "_model_module_version": "1.5.0",
            "value": " 200/200 [01:29&lt;00:00,  2.22epoch/s]",
            "_view_count": null,
            "_view_module_version": "1.5.0",
            "description_tooltip": null,
            "_model_module": "@jupyter-widgets/controls",
            "layout": "IPY_MODEL_cd8fbc457d0246afb088a4a597941ca2"
          }
        },
        "2a98e25e657646759bb8f1579dee4e55": {
          "model_module": "@jupyter-widgets/controls",
          "model_name": "ProgressStyleModel",
          "state": {
            "_view_name": "StyleView",
            "_model_name": "ProgressStyleModel",
            "description_width": "initial",
            "_view_module": "@jupyter-widgets/base",
            "_model_module_version": "1.5.0",
            "_view_count": null,
            "_view_module_version": "1.2.0",
            "bar_color": null,
            "_model_module": "@jupyter-widgets/controls"
          }
        },
        "2acafee2d02b4816a4ad8e9bf999da5c": {
          "model_module": "@jupyter-widgets/base",
          "model_name": "LayoutModel",
          "state": {
            "_view_name": "LayoutView",
            "grid_template_rows": null,
            "right": null,
            "justify_content": null,
            "_view_module": "@jupyter-widgets/base",
            "overflow": null,
            "_model_module_version": "1.2.0",
            "_view_count": null,
            "flex_flow": null,
            "width": null,
            "min_width": null,
            "border": null,
            "align_items": null,
            "bottom": null,
            "_model_module": "@jupyter-widgets/base",
            "top": null,
            "grid_column": null,
            "overflow_y": null,
            "overflow_x": null,
            "grid_auto_flow": null,
            "grid_area": null,
            "grid_template_columns": null,
            "flex": null,
            "_model_name": "LayoutModel",
            "justify_items": null,
            "grid_row": null,
            "max_height": null,
            "align_content": null,
            "visibility": null,
            "align_self": null,
            "height": null,
            "min_height": null,
            "padding": null,
            "grid_auto_rows": null,
            "grid_gap": null,
            "max_width": null,
            "order": null,
            "_view_module_version": "1.2.0",
            "grid_template_areas": null,
            "object_position": null,
            "object_fit": null,
            "grid_auto_columns": null,
            "margin": null,
            "display": null,
            "left": null
          }
        },
        "39be8949a1ef41ad86a2ba74baca2ba2": {
          "model_module": "@jupyter-widgets/controls",
          "model_name": "DescriptionStyleModel",
          "state": {
            "_view_name": "StyleView",
            "_model_name": "DescriptionStyleModel",
            "description_width": "",
            "_view_module": "@jupyter-widgets/base",
            "_model_module_version": "1.5.0",
            "_view_count": null,
            "_view_module_version": "1.2.0",
            "_model_module": "@jupyter-widgets/controls"
          }
        },
        "cd8fbc457d0246afb088a4a597941ca2": {
          "model_module": "@jupyter-widgets/base",
          "model_name": "LayoutModel",
          "state": {
            "_view_name": "LayoutView",
            "grid_template_rows": null,
            "right": null,
            "justify_content": null,
            "_view_module": "@jupyter-widgets/base",
            "overflow": null,
            "_model_module_version": "1.2.0",
            "_view_count": null,
            "flex_flow": null,
            "width": null,
            "min_width": null,
            "border": null,
            "align_items": null,
            "bottom": null,
            "_model_module": "@jupyter-widgets/base",
            "top": null,
            "grid_column": null,
            "overflow_y": null,
            "overflow_x": null,
            "grid_auto_flow": null,
            "grid_area": null,
            "grid_template_columns": null,
            "flex": null,
            "_model_name": "LayoutModel",
            "justify_items": null,
            "grid_row": null,
            "max_height": null,
            "align_content": null,
            "visibility": null,
            "align_self": null,
            "height": null,
            "min_height": null,
            "padding": null,
            "grid_auto_rows": null,
            "grid_gap": null,
            "max_width": null,
            "order": null,
            "_view_module_version": "1.2.0",
            "grid_template_areas": null,
            "object_position": null,
            "object_fit": null,
            "grid_auto_columns": null,
            "margin": null,
            "display": null,
            "left": null
          }
        },
        "d2eb004fd8cb4a7d95723b85fc0a5ed2": {
          "model_module": "@jupyter-widgets/controls",
          "model_name": "HBoxModel",
          "state": {
            "_view_name": "HBoxView",
            "_dom_classes": [],
            "_model_name": "HBoxModel",
            "_view_module": "@jupyter-widgets/controls",
            "_model_module_version": "1.5.0",
            "_view_count": null,
            "_view_module_version": "1.5.0",
            "box_style": "",
            "layout": "IPY_MODEL_c7cad3c60ec34757a882a5a68cb66874",
            "_model_module": "@jupyter-widgets/controls",
            "children": [
              "IPY_MODEL_767fe03d7aa44a4c96b3fb5092dd50d9",
              "IPY_MODEL_3cd4eae9ac384a3b8de62883f90ffd53"
            ]
          }
        },
        "c7cad3c60ec34757a882a5a68cb66874": {
          "model_module": "@jupyter-widgets/base",
          "model_name": "LayoutModel",
          "state": {
            "_view_name": "LayoutView",
            "grid_template_rows": null,
            "right": null,
            "justify_content": null,
            "_view_module": "@jupyter-widgets/base",
            "overflow": null,
            "_model_module_version": "1.2.0",
            "_view_count": null,
            "flex_flow": null,
            "width": null,
            "min_width": null,
            "border": null,
            "align_items": null,
            "bottom": null,
            "_model_module": "@jupyter-widgets/base",
            "top": null,
            "grid_column": null,
            "overflow_y": null,
            "overflow_x": null,
            "grid_auto_flow": null,
            "grid_area": null,
            "grid_template_columns": null,
            "flex": null,
            "_model_name": "LayoutModel",
            "justify_items": null,
            "grid_row": null,
            "max_height": null,
            "align_content": null,
            "visibility": null,
            "align_self": null,
            "height": null,
            "min_height": null,
            "padding": null,
            "grid_auto_rows": null,
            "grid_gap": null,
            "max_width": null,
            "order": null,
            "_view_module_version": "1.2.0",
            "grid_template_areas": null,
            "object_position": null,
            "object_fit": null,
            "grid_auto_columns": null,
            "margin": null,
            "display": null,
            "left": null
          }
        },
        "767fe03d7aa44a4c96b3fb5092dd50d9": {
          "model_module": "@jupyter-widgets/controls",
          "model_name": "FloatProgressModel",
          "state": {
            "_view_name": "ProgressView",
            "style": "IPY_MODEL_d5a307bf848e426097a394e387cd53a5",
            "_dom_classes": [],
            "description": "Link prediction evaluation: 100%",
            "_model_name": "FloatProgressModel",
            "bar_style": "success",
            "max": 17,
            "_view_module": "@jupyter-widgets/controls",
            "_model_module_version": "1.5.0",
            "value": 17,
            "_view_count": null,
            "_view_module_version": "1.5.0",
            "orientation": "horizontal",
            "min": 0,
            "description_tooltip": null,
            "_model_module": "@jupyter-widgets/controls",
            "layout": "IPY_MODEL_723afc9b9d314a75bff94c012c86b7fa"
          }
        },
        "3cd4eae9ac384a3b8de62883f90ffd53": {
          "model_module": "@jupyter-widgets/controls",
          "model_name": "HTMLModel",
          "state": {
            "_view_name": "HTMLView",
            "style": "IPY_MODEL_48464b9d5d734b69ad2abad26e5d9ea7",
            "_dom_classes": [],
            "description": "",
            "_model_name": "HTMLModel",
            "placeholder": "​",
            "_view_module": "@jupyter-widgets/controls",
            "_model_module_version": "1.5.0",
            "value": " 17/17 [00:17&lt;00:00,  1.05s/batch]",
            "_view_count": null,
            "_view_module_version": "1.5.0",
            "description_tooltip": null,
            "_model_module": "@jupyter-widgets/controls",
            "layout": "IPY_MODEL_1710e73400294707a043de5b802fa90d"
          }
        },
        "d5a307bf848e426097a394e387cd53a5": {
          "model_module": "@jupyter-widgets/controls",
          "model_name": "ProgressStyleModel",
          "state": {
            "_view_name": "StyleView",
            "_model_name": "ProgressStyleModel",
            "description_width": "initial",
            "_view_module": "@jupyter-widgets/base",
            "_model_module_version": "1.5.0",
            "_view_count": null,
            "_view_module_version": "1.2.0",
            "bar_color": null,
            "_model_module": "@jupyter-widgets/controls"
          }
        },
        "723afc9b9d314a75bff94c012c86b7fa": {
          "model_module": "@jupyter-widgets/base",
          "model_name": "LayoutModel",
          "state": {
            "_view_name": "LayoutView",
            "grid_template_rows": null,
            "right": null,
            "justify_content": null,
            "_view_module": "@jupyter-widgets/base",
            "overflow": null,
            "_model_module_version": "1.2.0",
            "_view_count": null,
            "flex_flow": null,
            "width": null,
            "min_width": null,
            "border": null,
            "align_items": null,
            "bottom": null,
            "_model_module": "@jupyter-widgets/base",
            "top": null,
            "grid_column": null,
            "overflow_y": null,
            "overflow_x": null,
            "grid_auto_flow": null,
            "grid_area": null,
            "grid_template_columns": null,
            "flex": null,
            "_model_name": "LayoutModel",
            "justify_items": null,
            "grid_row": null,
            "max_height": null,
            "align_content": null,
            "visibility": null,
            "align_self": null,
            "height": null,
            "min_height": null,
            "padding": null,
            "grid_auto_rows": null,
            "grid_gap": null,
            "max_width": null,
            "order": null,
            "_view_module_version": "1.2.0",
            "grid_template_areas": null,
            "object_position": null,
            "object_fit": null,
            "grid_auto_columns": null,
            "margin": null,
            "display": null,
            "left": null
          }
        },
        "48464b9d5d734b69ad2abad26e5d9ea7": {
          "model_module": "@jupyter-widgets/controls",
          "model_name": "DescriptionStyleModel",
          "state": {
            "_view_name": "StyleView",
            "_model_name": "DescriptionStyleModel",
            "description_width": "",
            "_view_module": "@jupyter-widgets/base",
            "_model_module_version": "1.5.0",
            "_view_count": null,
            "_view_module_version": "1.2.0",
            "_model_module": "@jupyter-widgets/controls"
          }
        },
        "1710e73400294707a043de5b802fa90d": {
          "model_module": "@jupyter-widgets/base",
          "model_name": "LayoutModel",
          "state": {
            "_view_name": "LayoutView",
            "grid_template_rows": null,
            "right": null,
            "justify_content": null,
            "_view_module": "@jupyter-widgets/base",
            "overflow": null,
            "_model_module_version": "1.2.0",
            "_view_count": null,
            "flex_flow": null,
            "width": null,
            "min_width": null,
            "border": null,
            "align_items": null,
            "bottom": null,
            "_model_module": "@jupyter-widgets/base",
            "top": null,
            "grid_column": null,
            "overflow_y": null,
            "overflow_x": null,
            "grid_auto_flow": null,
            "grid_area": null,
            "grid_template_columns": null,
            "flex": null,
            "_model_name": "LayoutModel",
            "justify_items": null,
            "grid_row": null,
            "max_height": null,
            "align_content": null,
            "visibility": null,
            "align_self": null,
            "height": null,
            "min_height": null,
            "padding": null,
            "grid_auto_rows": null,
            "grid_gap": null,
            "max_width": null,
            "order": null,
            "_view_module_version": "1.2.0",
            "grid_template_areas": null,
            "object_position": null,
            "object_fit": null,
            "grid_auto_columns": null,
            "margin": null,
            "display": null,
            "left": null
          }
        }
      }
    }
  },
  "cells": [
    {
      "cell_type": "markdown",
      "metadata": {
        "id": "view-in-github",
        "colab_type": "text"
      },
      "source": [
        "<a href=\"https://colab.research.google.com/github/ioiein/Network-science/blob/main/assignment_knowledge_graph_embedding/assignment.ipynb\" target=\"_parent\"><img src=\"https://colab.research.google.com/assets/colab-badge.svg\" alt=\"Open In Colab\"/></a>"
      ]
    },
    {
      "cell_type": "markdown",
      "metadata": {
        "id": "Qp-MlfmaFUf8"
      },
      "source": [
        "# Assignment — Knowledge Graph Embedding"
      ]
    },
    {
      "cell_type": "markdown",
      "metadata": {
        "id": "QfbsQDf-FUf_"
      },
      "source": [
        "In this assignment we will see how to use the [TorchKGE](https://github.com/torchkge-team/torchkge) library for building knowledge graphs and its embeddings."
      ]
    },
    {
      "cell_type": "code",
      "metadata": {
        "id": "XUJnCfqCFUgA"
      },
      "source": [
        "import numpy as np\n",
        "import pandas as pd\n",
        "pd.options.display.max_colwidth = 100\n",
        "from zlib import adler32\n",
        "import requests"
      ],
      "execution_count": 1,
      "outputs": []
    },
    {
      "cell_type": "markdown",
      "metadata": {
        "id": "5zYwDw-HFUgB"
      },
      "source": [
        "### Task 1. Dataset exploration (1 points)"
      ]
    },
    {
      "cell_type": "markdown",
      "metadata": {
        "id": "v9knOk-0FUgC"
      },
      "source": [
        "To begin with we are going to need a knowledge graph, so let us load a standard knowledge graph dataset called _Freebase-15k-237_."
      ]
    },
    {
      "cell_type": "code",
      "metadata": {
        "id": "sK-DUTRNFUgD"
      },
      "source": [
        "df = pd.read_csv(\n",
        "    \"https://raw.githubusercontent.com/netspractice/ml-on-graphs/main/datasets/freebase-237-merged-and-remapped.csv\", \n",
        "    names=['h', 'r', 't'])"
      ],
      "execution_count": 2,
      "outputs": []
    },
    {
      "cell_type": "code",
      "metadata": {
        "colab": {
          "base_uri": "https://localhost:8080/",
          "height": 363
        },
        "id": "b7urp2MuFUgE",
        "outputId": "03fe501f-0c14-49ad-a862-90bbd5a6783b"
      },
      "source": [
        "df = df[~df.h.str.startswith('/') & ~df.t.str.startswith('/')]\n",
        "df[::1000].head(10)"
      ],
      "execution_count": 3,
      "outputs": [
        {
          "output_type": "execute_result",
          "data": {
            "text/html": [
              "<div>\n",
              "<style scoped>\n",
              "    .dataframe tbody tr th:only-of-type {\n",
              "        vertical-align: middle;\n",
              "    }\n",
              "\n",
              "    .dataframe tbody tr th {\n",
              "        vertical-align: top;\n",
              "    }\n",
              "\n",
              "    .dataframe thead th {\n",
              "        text-align: right;\n",
              "    }\n",
              "</style>\n",
              "<table border=\"1\" class=\"dataframe\">\n",
              "  <thead>\n",
              "    <tr style=\"text-align: right;\">\n",
              "      <th></th>\n",
              "      <th>h</th>\n",
              "      <th>r</th>\n",
              "      <th>t</th>\n",
              "    </tr>\n",
              "  </thead>\n",
              "  <tbody>\n",
              "    <tr>\n",
              "      <th>0</th>\n",
              "      <td>queens college, city university of new york</td>\n",
              "      <td>/education/educational_institution/students_graduates./education/education/student</td>\n",
              "      <td>carol leifer</td>\n",
              "    </tr>\n",
              "    <tr>\n",
              "      <th>1103</th>\n",
              "      <td>sharon stone</td>\n",
              "      <td>/award/award_nominee/award_nominations./award/award_nomination/award_nominee</td>\n",
              "      <td>jacob vargas</td>\n",
              "    </tr>\n",
              "    <tr>\n",
              "      <th>2210</th>\n",
              "      <td>japan</td>\n",
              "      <td>/location/country/capital</td>\n",
              "      <td>tokyo</td>\n",
              "    </tr>\n",
              "    <tr>\n",
              "      <th>3329</th>\n",
              "      <td>syphilis</td>\n",
              "      <td>/medicine/disease/risk_factors</td>\n",
              "      <td>male</td>\n",
              "    </tr>\n",
              "    <tr>\n",
              "      <th>4447</th>\n",
              "      <td>michael carlisle hall</td>\n",
              "      <td>/award/award_nominee/award_nominations./award/award_nomination/award_nominee</td>\n",
              "      <td>mena suvari</td>\n",
              "    </tr>\n",
              "    <tr>\n",
              "      <th>5555</th>\n",
              "      <td>alice in wonderland</td>\n",
              "      <td>/film/film/language</td>\n",
              "      <td>english language</td>\n",
              "    </tr>\n",
              "    <tr>\n",
              "      <th>6653</th>\n",
              "      <td>nauru</td>\n",
              "      <td>/location/country/official_language</td>\n",
              "      <td>english language</td>\n",
              "    </tr>\n",
              "    <tr>\n",
              "      <th>7743</th>\n",
              "      <td>ben harper</td>\n",
              "      <td>/people/person/spouse_s./people/marriage/type_of_union</td>\n",
              "      <td>marriage</td>\n",
              "    </tr>\n",
              "    <tr>\n",
              "      <th>8840</th>\n",
              "      <td>the perks of being a wallflower</td>\n",
              "      <td>/film/film/country</td>\n",
              "      <td>united states of america</td>\n",
              "    </tr>\n",
              "    <tr>\n",
              "      <th>9960</th>\n",
              "      <td>vice president</td>\n",
              "      <td>/business/job_title/people_with_this_title./business/employment_tenure/company</td>\n",
              "      <td>scripps howard broadcasting</td>\n",
              "    </tr>\n",
              "  </tbody>\n",
              "</table>\n",
              "</div>"
            ],
            "text/plain": [
              "                                                h  ...                            t\n",
              "0     queens college, city university of new york  ...                 carol leifer\n",
              "1103                                 sharon stone  ...                 jacob vargas\n",
              "2210                                        japan  ...                        tokyo\n",
              "3329                                     syphilis  ...                         male\n",
              "4447                        michael carlisle hall  ...                  mena suvari\n",
              "5555                          alice in wonderland  ...             english language\n",
              "6653                                        nauru  ...             english language\n",
              "7743                                   ben harper  ...                     marriage\n",
              "8840              the perks of being a wallflower  ...     united states of america\n",
              "9960                               vice president  ...  scripps howard broadcasting\n",
              "\n",
              "[10 rows x 3 columns]"
            ]
          },
          "metadata": {
            "tags": []
          },
          "execution_count": 3
        }
      ]
    },
    {
      "cell_type": "markdown",
      "metadata": {
        "id": "Cs_P6rlmFUgF"
      },
      "source": [
        "There is h — head (also subject), r — relation (also predicat, label), t — tail (also object). The shape of the dataset is"
      ]
    },
    {
      "cell_type": "code",
      "metadata": {
        "colab": {
          "base_uri": "https://localhost:8080/"
        },
        "id": "UmKuDOizFUgG",
        "outputId": "efaa54ac-ea14-4d81-f414-dc38a8261411"
      },
      "source": [
        "df.shape"
      ],
      "execution_count": 4,
      "outputs": [
        {
          "output_type": "execute_result",
          "data": {
            "text/plain": [
              "(282560, 3)"
            ]
          },
          "metadata": {
            "tags": []
          },
          "execution_count": 4
        }
      ]
    },
    {
      "cell_type": "markdown",
      "metadata": {
        "id": "GvRQAWXIFUgG"
      },
      "source": [
        "Let us check the number of unique entities and unique relations.\n",
        "\n",
        "Write a funtion `n_ent_rel` that takes a dataset and returns a number of unique entities and unique relations.\n"
      ]
    },
    {
      "cell_type": "code",
      "metadata": {
        "deletable": false,
        "nbgrader": {
          "cell_type": "code",
          "checksum": "e835a990ce88589b1e4baa4e213e5aed",
          "grade": false,
          "grade_id": "cell-a1c37b647b2bd8d4",
          "locked": false,
          "schema_version": 3,
          "solution": true,
          "task": false
        },
        "id": "0f9iKOhjFUgH"
      },
      "source": [
        "def n_ent_rel(df):\n",
        "    # YOUR CODE HERE\n",
        "    # raise NotImplementedError()\n",
        "    return df[\"h\"].append(df[\"t\"]).nunique(), df[\"r\"].nunique()"
      ],
      "execution_count": 5,
      "outputs": []
    },
    {
      "cell_type": "code",
      "metadata": {
        "deletable": false,
        "editable": false,
        "nbgrader": {
          "cell_type": "code",
          "checksum": "33c35eef24a5f6a8488d57049487dd88",
          "grade": true,
          "grade_id": "cell-e297130eb1b840de",
          "locked": true,
          "points": 0.25,
          "schema_version": 3,
          "solution": false,
          "task": false
        },
        "colab": {
          "base_uri": "https://localhost:8080/"
        },
        "id": "hVfcgH-qFUgI",
        "outputId": "f9a883df-dbaa-4034-b33e-fe0582d1ee33"
      },
      "source": [
        "n_ent, n_rel = n_ent_rel(df)\n",
        "assert adler32(str(n_ent + n_ent).encode()) == 50266365\n",
        "n_ent, n_rel"
      ],
      "execution_count": 6,
      "outputs": [
        {
          "output_type": "execute_result",
          "data": {
            "text/plain": [
              "(13506, 228)"
            ]
          },
          "metadata": {
            "tags": []
          },
          "execution_count": 6
        }
      ]
    },
    {
      "cell_type": "markdown",
      "metadata": {
        "id": "8dc-lXkNFUgI"
      },
      "source": [
        "We can look at all facts about any entity via pandas API"
      ]
    },
    {
      "cell_type": "code",
      "metadata": {
        "colab": {
          "base_uri": "https://localhost:8080/",
          "height": 206
        },
        "id": "PD5nrGyuFUgJ",
        "outputId": "8bf93038-40e3-4c03-d193-c88dbefe8de2"
      },
      "source": [
        "df[df.h ==  'aleksandr pushkin'].head()"
      ],
      "execution_count": 7,
      "outputs": [
        {
          "output_type": "execute_result",
          "data": {
            "text/html": [
              "<div>\n",
              "<style scoped>\n",
              "    .dataframe tbody tr th:only-of-type {\n",
              "        vertical-align: middle;\n",
              "    }\n",
              "\n",
              "    .dataframe tbody tr th {\n",
              "        vertical-align: top;\n",
              "    }\n",
              "\n",
              "    .dataframe thead th {\n",
              "        text-align: right;\n",
              "    }\n",
              "</style>\n",
              "<table border=\"1\" class=\"dataframe\">\n",
              "  <thead>\n",
              "    <tr style=\"text-align: right;\">\n",
              "      <th></th>\n",
              "      <th>h</th>\n",
              "      <th>r</th>\n",
              "      <th>t</th>\n",
              "    </tr>\n",
              "  </thead>\n",
              "  <tbody>\n",
              "    <tr>\n",
              "      <th>4107</th>\n",
              "      <td>aleksandr pushkin</td>\n",
              "      <td>/people/person/profession</td>\n",
              "      <td>poet</td>\n",
              "    </tr>\n",
              "    <tr>\n",
              "      <th>14992</th>\n",
              "      <td>aleksandr pushkin</td>\n",
              "      <td>/influence/influence_node/influenced_by</td>\n",
              "      <td>johann wolfgang von goethe</td>\n",
              "    </tr>\n",
              "    <tr>\n",
              "      <th>19525</th>\n",
              "      <td>aleksandr pushkin</td>\n",
              "      <td>/people/person/nationality</td>\n",
              "      <td>russian empire</td>\n",
              "    </tr>\n",
              "    <tr>\n",
              "      <th>40237</th>\n",
              "      <td>aleksandr pushkin</td>\n",
              "      <td>/people/person/place_of_birth</td>\n",
              "      <td>moscow</td>\n",
              "    </tr>\n",
              "    <tr>\n",
              "      <th>47411</th>\n",
              "      <td>aleksandr pushkin</td>\n",
              "      <td>/influence/influence_node/influenced_by</td>\n",
              "      <td>william shakespeare</td>\n",
              "    </tr>\n",
              "  </tbody>\n",
              "</table>\n",
              "</div>"
            ],
            "text/plain": [
              "                       h  ...                           t\n",
              "4107   aleksandr pushkin  ...                        poet\n",
              "14992  aleksandr pushkin  ...  johann wolfgang von goethe\n",
              "19525  aleksandr pushkin  ...              russian empire\n",
              "40237  aleksandr pushkin  ...                      moscow\n",
              "47411  aleksandr pushkin  ...         william shakespeare\n",
              "\n",
              "[5 rows x 3 columns]"
            ]
          },
          "metadata": {
            "tags": []
          },
          "execution_count": 7
        }
      ]
    },
    {
      "cell_type": "code",
      "metadata": {
        "colab": {
          "base_uri": "https://localhost:8080/",
          "height": 81
        },
        "id": "fQWUACg_FUgJ",
        "outputId": "9d356269-0307-4f56-a578-430df1aadaff"
      },
      "source": [
        "df[(df.h ==  'aleksandr pushkin') & (df.t == 'nikolai gogol')]"
      ],
      "execution_count": 8,
      "outputs": [
        {
          "output_type": "execute_result",
          "data": {
            "text/html": [
              "<div>\n",
              "<style scoped>\n",
              "    .dataframe tbody tr th:only-of-type {\n",
              "        vertical-align: middle;\n",
              "    }\n",
              "\n",
              "    .dataframe tbody tr th {\n",
              "        vertical-align: top;\n",
              "    }\n",
              "\n",
              "    .dataframe thead th {\n",
              "        text-align: right;\n",
              "    }\n",
              "</style>\n",
              "<table border=\"1\" class=\"dataframe\">\n",
              "  <thead>\n",
              "    <tr style=\"text-align: right;\">\n",
              "      <th></th>\n",
              "      <th>h</th>\n",
              "      <th>r</th>\n",
              "      <th>t</th>\n",
              "    </tr>\n",
              "  </thead>\n",
              "  <tbody>\n",
              "    <tr>\n",
              "      <th>145219</th>\n",
              "      <td>aleksandr pushkin</td>\n",
              "      <td>/influence/influence_node/peers./influence/peer_relationship/peers</td>\n",
              "      <td>nikolai gogol</td>\n",
              "    </tr>\n",
              "  </tbody>\n",
              "</table>\n",
              "</div>"
            ],
            "text/plain": [
              "                        h  ...              t\n",
              "145219  aleksandr pushkin  ...  nikolai gogol\n",
              "\n",
              "[1 rows x 3 columns]"
            ]
          },
          "metadata": {
            "tags": []
          },
          "execution_count": 8
        }
      ]
    },
    {
      "cell_type": "code",
      "metadata": {
        "colab": {
          "base_uri": "https://localhost:8080/",
          "height": 112
        },
        "id": "3SiVoCMGFUgK",
        "outputId": "118623fc-bca1-42d3-e9ea-fe9535c94fda"
      },
      "source": [
        "df[(df.h ==  'nikolai gogol') & (df.t == 'aleksandr pushkin')]"
      ],
      "execution_count": 9,
      "outputs": [
        {
          "output_type": "execute_result",
          "data": {
            "text/html": [
              "<div>\n",
              "<style scoped>\n",
              "    .dataframe tbody tr th:only-of-type {\n",
              "        vertical-align: middle;\n",
              "    }\n",
              "\n",
              "    .dataframe tbody tr th {\n",
              "        vertical-align: top;\n",
              "    }\n",
              "\n",
              "    .dataframe thead th {\n",
              "        text-align: right;\n",
              "    }\n",
              "</style>\n",
              "<table border=\"1\" class=\"dataframe\">\n",
              "  <thead>\n",
              "    <tr style=\"text-align: right;\">\n",
              "      <th></th>\n",
              "      <th>h</th>\n",
              "      <th>r</th>\n",
              "      <th>t</th>\n",
              "    </tr>\n",
              "  </thead>\n",
              "  <tbody>\n",
              "    <tr>\n",
              "      <th>86362</th>\n",
              "      <td>nikolai gogol</td>\n",
              "      <td>/influence/influence_node/peers./influence/peer_relationship/peers</td>\n",
              "      <td>aleksandr pushkin</td>\n",
              "    </tr>\n",
              "    <tr>\n",
              "      <th>269512</th>\n",
              "      <td>nikolai gogol</td>\n",
              "      <td>/influence/influence_node/influenced_by</td>\n",
              "      <td>aleksandr pushkin</td>\n",
              "    </tr>\n",
              "  </tbody>\n",
              "</table>\n",
              "</div>"
            ],
            "text/plain": [
              "                    h  ...                  t\n",
              "86362   nikolai gogol  ...  aleksandr pushkin\n",
              "269512  nikolai gogol  ...  aleksandr pushkin\n",
              "\n",
              "[2 rows x 3 columns]"
            ]
          },
          "metadata": {
            "tags": []
          },
          "execution_count": 9
        }
      ]
    },
    {
      "cell_type": "markdown",
      "metadata": {
        "id": "5FIOOTTAFUgL"
      },
      "source": [
        "Let us try to find some facts in this dataset. For example, what is Harrison Ford's nationality? (\"harrison ford\" in the dataset)\n",
        "\n",
        "Write a function `harrison_ford_nationality` that takes a dataset and returns the nationality.\n",
        "\n",
        "_Hint: use `pandas.Series.str.contains` method_"
      ]
    },
    {
      "cell_type": "code",
      "metadata": {
        "deletable": false,
        "nbgrader": {
          "cell_type": "code",
          "checksum": "4f23d23c2036f17a865ee09c5de46253",
          "grade": false,
          "grade_id": "cell-bf2eb40c10e9971d",
          "locked": false,
          "schema_version": 3,
          "solution": true,
          "task": false
        },
        "id": "gPOnshTJFUgL"
      },
      "source": [
        "def harrison_ford_nationality(df):\n",
        "    # YOUR CODE HERE\n",
        "    # raise NotImplementedError()\n",
        "    return df[df[\"h\"].str.contains(\"harrison ford\") & df[\"r\"].str.contains(\"nationality\")][\"t\"].values[0]"
      ],
      "execution_count": 10,
      "outputs": []
    },
    {
      "cell_type": "code",
      "metadata": {
        "deletable": false,
        "editable": false,
        "nbgrader": {
          "cell_type": "code",
          "checksum": "23d0c5ad6271894515cdbdf4bfb84fa0",
          "grade": true,
          "grade_id": "cell-e20681a97039cdf6",
          "locked": true,
          "points": 0.25,
          "schema_version": 3,
          "solution": false,
          "task": false
        },
        "colab": {
          "base_uri": "https://localhost:8080/",
          "height": 35
        },
        "id": "yMAkDOvZFUgM",
        "outputId": "fcd10206-37dc-4b83-e1b9-719382793051"
      },
      "source": [
        "assert adler32(harrison_ford_nationality(df).encode()) == 1948191013\n",
        "harrison_ford_nationality(df)"
      ],
      "execution_count": 11,
      "outputs": [
        {
          "output_type": "execute_result",
          "data": {
            "application/vnd.google.colaboratory.intrinsic+json": {
              "type": "string"
            },
            "text/plain": [
              "'united states of america'"
            ]
          },
          "metadata": {
            "tags": []
          },
          "execution_count": 11
        }
      ]
    },
    {
      "cell_type": "markdown",
      "metadata": {
        "id": "V6A6iqTBFUgN"
      },
      "source": [
        "More tricky question: who are film directors of movies where Harrison Ford was?\n",
        "\n",
        "Write a function `made_films_with_harrison_ford` that returns a set of directors' names."
      ]
    },
    {
      "cell_type": "code",
      "metadata": {
        "deletable": false,
        "nbgrader": {
          "cell_type": "code",
          "checksum": "ac4a71f632063e89560fc4127de263b1",
          "grade": false,
          "grade_id": "cell-7ea1e48135c759d5",
          "locked": false,
          "schema_version": 3,
          "solution": true,
          "task": false
        },
        "id": "y0dXtdB3FUgN"
      },
      "source": [
        "def made_films_with_harrison_ford(df):\n",
        "    # YOUR CODE HERE\n",
        "    # raise NotImplementedError()\n",
        "    s1 = set(df.loc[(df[\"h\"] == \"harrison ford\")&(df[\"r\"].str.contains(\"film\")), \"t\"])\n",
        "    s2 = set(df.loc[(df[\"t\"].isin(s1))&(df[\"r\"].str.contains(\"director\")), \"h\"])\n",
        "    return s2"
      ],
      "execution_count": 12,
      "outputs": []
    },
    {
      "cell_type": "code",
      "metadata": {
        "deletable": false,
        "editable": false,
        "nbgrader": {
          "cell_type": "code",
          "checksum": "0bb8cda4354aba8ed178a1061828a22c",
          "grade": true,
          "grade_id": "cell-f3dbc03094dcbb5b",
          "locked": true,
          "points": 0.5,
          "schema_version": 3,
          "solution": false,
          "task": false
        },
        "colab": {
          "base_uri": "https://localhost:8080/"
        },
        "id": "m7emSxjZFUgO",
        "outputId": "18f04fbd-5bb1-41fc-a72b-bd1ff7c2504e"
      },
      "source": [
        "directors = made_films_with_harrison_ford(df)\n",
        "assert adler32(str(sorted(directors)).encode()) == 3798415057\n",
        "directors"
      ],
      "execution_count": 13,
      "outputs": [
        {
          "output_type": "execute_result",
          "data": {
            "text/plain": [
              "{'francis ford coppola',\n",
              " 'george lucas',\n",
              " 'jon favreau filmography',\n",
              " 'kathryn bigelow',\n",
              " 'mike nichols',\n",
              " 'ridley scott',\n",
              " 'robert zemeckis',\n",
              " 'steven spielberg'}"
            ]
          },
          "metadata": {
            "tags": []
          },
          "execution_count": 13
        }
      ]
    },
    {
      "cell_type": "markdown",
      "metadata": {
        "id": "ywK5k3MHFUgO"
      },
      "source": [
        "### Task 2. TransE embedding model (2 points)"
      ]
    },
    {
      "cell_type": "markdown",
      "metadata": {
        "id": "mLbqfSMrFUgP"
      },
      "source": [
        "TransE (translations in the embedding space) is a method which models relationships by interpreting them as translations operating on the low-dimensional embeddings of the entities.\n",
        "\n",
        "Let us implement the model using TorchKGE — a Python module for knowledge graph embedding relying solely on Pytorch."
      ]
    },
    {
      "cell_type": "code",
      "metadata": {
        "colab": {
          "base_uri": "https://localhost:8080/"
        },
        "id": "z24Q2MZpFUgP",
        "outputId": "2ab304ea-2f5c-4334-fcc9-61c21f29b2df"
      },
      "source": [
        "!pip install torchkge==0.16.25 -q"
      ],
      "execution_count": 14,
      "outputs": [
        {
          "output_type": "stream",
          "text": [
            "\u001b[?25l\r\u001b[K     |██████▉                         | 10kB 23.6MB/s eta 0:00:01\r\u001b[K     |█████████████▋                  | 20kB 29.5MB/s eta 0:00:01\r\u001b[K     |████████████████████▍           | 30kB 34.8MB/s eta 0:00:01\r\u001b[K     |███████████████████████████▏    | 40kB 28.2MB/s eta 0:00:01\r\u001b[K     |████████████████████████████████| 51kB 5.0MB/s \n",
            "\u001b[?25h"
          ],
          "name": "stdout"
        }
      ]
    },
    {
      "cell_type": "code",
      "metadata": {
        "id": "dTftSErTFUgQ"
      },
      "source": [
        "import torch\n",
        "from torch import nn\n",
        "import torch.nn.functional as F\n",
        "from torchkge import KnowledgeGraph\n",
        "from torchkge.utils import Trainer\n",
        "from torchkge.evaluation import LinkPredictionEvaluator\n",
        "from torchkge.models.interfaces import TranslationModel\n",
        "from torch.nn.init import xavier_uniform_"
      ],
      "execution_count": 15,
      "outputs": []
    },
    {
      "cell_type": "markdown",
      "metadata": {
        "id": "TX5YG2jbFUgQ"
      },
      "source": [
        "<img src='https://github.com/netspractice/ml-on-graphs/raw/main/assignment_knowledge_graph_embedding/kge.png' width=300>"
      ]
    },
    {
      "cell_type": "markdown",
      "metadata": {
        "id": "saRfrtIiFUgR"
      },
      "source": [
        "The basic idea behind the model is that the functional relation induced by the $r$-labeled edges corresponds to a translation of the embeddings, i.e. we want that $h + r \\approx t$ when ($h$, $r$, $t$) holds ($t$ should be a nearest neighbor of $h + r$), while $h + r$ should be far away from $t$ otherwise. Thereby, TransE scoring function is negative distance between $h+r$ and $t$\n",
        "\n",
        "$$f(h, r, t) = -||h + r - t||$$\n",
        "\n",
        "where $||\\cdot||$ is L1 or L2 norm. The goal of the optimization procedure is learning optimal embeddings, such that the scoring function is able to assign high scores to positive statements and low scores to statements unlikely to be true. The most common loss function is Margin Loss that can be represented as\n",
        "\n",
        "$$L = \\text{ReLU}\\left(\\gamma - f(h, r, t) + f(h', r, t')\\right)$$\n",
        "\n",
        "where $\\gamma > 0$ is a \"margin\" hyperparameter, the triplet $(h, r, t)$ is in a training set (positive) and the $(h', r, t')$ is in a set of *corrupted* (negative) triplets, that are composed of training triplets with either the head or tail replaced by a random entity (but not both at the same time)."
      ]
    },
    {
      "cell_type": "markdown",
      "metadata": {
        "id": "X4JTaLfAFUgS"
      },
      "source": [
        "We will use TorchKGE TranslationModel as a base for TransE class, here are some auxiliary methods: \n",
        "\n",
        "* `normalize_parameters` applies `L2` normalization for training stability\n",
        "* `get_embeddings` returns the tensors representing entities and relations\n",
        "* `lp_prep_cands` gets entities and relations embeddings for link prediction training process\n",
        "* `forward` returns scores for positive triplets (`h`, `r`, `t`) and negative triplets (`nh`, `r`, `nt`)"
      ]
    },
    {
      "cell_type": "code",
      "metadata": {
        "id": "GGok-0K9FUgU"
      },
      "source": [
        "class BaseTransE(TranslationModel):\n",
        "    def __init__(self, num_entities, num_relations, dim=100):\n",
        "        super(BaseTransE, self).__init__(num_entities, num_relations, dissimilarity_type='L2')\n",
        "        self.num_entities = num_entities\n",
        "        self.num_relations = num_relations\n",
        "        self.dim = dim\n",
        "        self.ent_embeddings = nn.Embedding(num_entities, self.dim)\n",
        "        xavier_uniform_(self.ent_embeddings.weight.data)\n",
        "        self.rel_embeddings = nn.Embedding(num_relations, self.dim)\n",
        "        xavier_uniform_(self.rel_embeddings.weight.data)\n",
        "        \n",
        "        self.normalize_parameters()\n",
        "        self.rel_embeddings.weight.data = F.normalize(self.rel_embeddings.weight.data, p=2, dim=1)\n",
        "\n",
        "    def normalize_parameters(self):\n",
        "        self.ent_embeddings.weight.data = F.normalize(self.ent_embeddings.weight.data, p=2, dim=1)\n",
        "\n",
        "    def get_embeddings(self):\n",
        "        self.normalize_parameters()\n",
        "        return self.ent_embeddings.weight.data, self.rel_embeddings.weight.data\n",
        "        \n",
        "    def lp_prep_cands(self, h_idx, t_idx, r_idx):\n",
        "        b_size = h_idx.shape[0]\n",
        "\n",
        "        h_emb = self.ent_embeddings(h_idx)\n",
        "        t_emb = self.ent_embeddings(t_idx)\n",
        "        r_emb = self.rel_embeddings(r_idx)\n",
        "\n",
        "        candidates = self.ent_embeddings.weight.data.view(1, self.num_entities, self.dim)\n",
        "        candidates = candidates.expand(b_size, self.num_entities, self.dim)\n",
        "\n",
        "        return h_emb, t_emb, candidates, r_emb\n",
        "    \n",
        "    def forward(self, h, t, nh, nt, r):\n",
        "        return self.scoring_function(h, t, r), self.scoring_function(nh, nt, r)"
      ],
      "execution_count": 16,
      "outputs": []
    },
    {
      "cell_type": "markdown",
      "metadata": {
        "id": "T8GJs_lFFUgV"
      },
      "source": [
        "Write a function `scoring_function` that takes a tensor `h`, `t`, `r` with triplets of the shape (number of triplets) and returns its L2 scores. For training stability, apply L2 normalization (`F.normalize`  with `p=2`) on entities embeddings before computing the scores. Note that `h`, `t`, `r` are tensors with integer IDs of entities and relations."
      ]
    },
    {
      "cell_type": "code",
      "metadata": {
        "deletable": false,
        "nbgrader": {
          "cell_type": "code",
          "checksum": "b28acb89a574281b6b491dc2a892fa97",
          "grade": false,
          "grade_id": "cell-10c450a856899a4f",
          "locked": false,
          "schema_version": 3,
          "solution": true,
          "task": false
        },
        "id": "XCjAYhBeFUgW"
      },
      "source": [
        "class TransE(BaseTransE):\n",
        "    def scoring_function(self, h, t, r):\n",
        "        # YOUR CODE HERE\n",
        "        # raise NotImplementedError()\n",
        "        h_ent_embd = F.normalize(self.ent_embeddings(h), p=2, dim=-1)\n",
        "        t_ent_embd = F.normalize(self.ent_embeddings(t), p=2, dim=-1)\n",
        "        r_ent_embd = self.rel_embeddings(r)\n",
        "        return -torch.linalg.norm(h_ent_embd + r_ent_embd - t_ent_embd, ord=2, dim=-1)"
      ],
      "execution_count": 17,
      "outputs": []
    },
    {
      "cell_type": "code",
      "metadata": {
        "deletable": false,
        "editable": false,
        "nbgrader": {
          "cell_type": "code",
          "checksum": "66b8a2c5364c811beed9f0983df16307",
          "grade": true,
          "grade_id": "cell-89f5ccbf84380079",
          "locked": true,
          "points": 0,
          "schema_version": 3,
          "solution": false,
          "task": false
        },
        "id": "PEYxM9GtFUgX"
      },
      "source": [
        "torch.manual_seed(0)\n",
        "model = TransE(num_entities=5, num_relations=2, dim=2)\n",
        "model.ent_embeddings.weight.data = torch.randn(5, 2)\n",
        "model.rel_embeddings.weight.data = torch.randn(2, 2)\n",
        "\n",
        "h = torch.LongTensor([1, 1, 1])\n",
        "r = torch.LongTensor([0, 1, 1])\n",
        "t = torch.LongTensor([2, 2, 3])\n",
        "\n",
        "with torch.no_grad():\n",
        "    scores = model.scoring_function(h, t, r).numpy()\n",
        "assert scores.shape == (3, ) # 3 triplets\n",
        "assert adler32(str(scores.round(2)).encode()) == 628491186"
      ],
      "execution_count": 18,
      "outputs": []
    },
    {
      "cell_type": "markdown",
      "metadata": {
        "id": "SvabqdK3FUgX"
      },
      "source": [
        "Complete the class `MarginLoss` so that computes the losses among scores and returns an average loss. Positive and negative scores are tensors of the shape (number of triplets)."
      ]
    },
    {
      "cell_type": "code",
      "metadata": {
        "deletable": false,
        "nbgrader": {
          "cell_type": "code",
          "checksum": "e152703e15d1c0adb58fa5f20649adcc",
          "grade": false,
          "grade_id": "cell-3fb7cb717cb420cb",
          "locked": false,
          "schema_version": 3,
          "solution": true,
          "task": false
        },
        "id": "ZxwcuZ4zFUgY"
      },
      "source": [
        "class MarginLoss(nn.Module):\n",
        "    def __init__(self, margin):\n",
        "        super().__init__()\n",
        "        self.margin = margin\n",
        "    def forward(self, positive_scores, negative_scores):\n",
        "        # YOUR CODE HERE\n",
        "        # raise NotImplementedError()\n",
        "        return torch.mean(F.relu(self.margin - positive_scores + negative_scores))"
      ],
      "execution_count": 19,
      "outputs": []
    },
    {
      "cell_type": "code",
      "metadata": {
        "deletable": false,
        "editable": false,
        "nbgrader": {
          "cell_type": "code",
          "checksum": "ddad8c020d3e0fe7112475c8f7a059fd",
          "grade": true,
          "grade_id": "cell-b28b48d0354bf7be",
          "locked": true,
          "points": 0,
          "schema_version": 3,
          "solution": false,
          "task": false
        },
        "id": "-EPhDd2pFUgY"
      },
      "source": [
        "loss_fn = MarginLoss(margin=0.5)\n",
        "torch.manual_seed(0)\n",
        "positive_scores = torch.randn(8)\n",
        "negative_scores = torch.randn(8)\n",
        "loss = loss_fn(positive_scores, negative_scores)\n",
        "assert loss.shape == torch.Size([])\n",
        "assert round(loss.item(), 2) == 0.79"
      ],
      "execution_count": 20,
      "outputs": []
    },
    {
      "cell_type": "markdown",
      "metadata": {
        "id": "mQCdfcIIFUgZ"
      },
      "source": [
        "Let us look at the WikiDataSet that presents country-specific subgraphs of Wikidata."
      ]
    },
    {
      "cell_type": "code",
      "metadata": {
        "id": "8HXJ4FqhFUgZ"
      },
      "source": [
        "url = 'https://raw.githubusercontent.com/netspractice/ml-on-graphs/main/datasets/countries_edges.tsv'\n",
        "open('countries_edges.tsv', 'wb').write(requests.get(url).content)\n",
        "url = 'https://raw.githubusercontent.com/netspractice/ml-on-graphs/main/datasets/countries_entities.tsv'\n",
        "open('countries_entities.tsv', 'wb').write(requests.get(url).content)\n",
        "url = 'https://raw.githubusercontent.com/netspractice/ml-on-graphs/main/datasets/countries_relations.tsv'\n",
        "open('countries_relations.tsv', 'wb').write(requests.get(url).content);"
      ],
      "execution_count": 21,
      "outputs": []
    },
    {
      "cell_type": "code",
      "metadata": {
        "id": "pZn3rrPYFUga"
      },
      "source": [
        "edges = pd.read_csv('countries_edges.tsv', sep='\t').values\n",
        "entity_labels = pd.read_csv('countries_entities.tsv', sep='\t', index_col=0).label.values\n",
        "relation_labels = pd.read_csv('countries_relations.tsv', sep='\t', index_col=0).label.values"
      ],
      "execution_count": 22,
      "outputs": []
    },
    {
      "cell_type": "code",
      "metadata": {
        "colab": {
          "base_uri": "https://localhost:8080/",
          "height": 206
        },
        "id": "-UJpVFBTFUgb",
        "outputId": "39a022c1-0de1-4efd-effd-996d93857bf2"
      },
      "source": [
        "edges_labeled = np.stack([entity_labels[edges[:, 0]], \n",
        "                          entity_labels[edges[:, 1]], \n",
        "                          relation_labels[edges[:, 2]]], axis=1)\n",
        "\n",
        "df = pd.DataFrame(edges_labeled, columns=['h', 't', 'r'])[['h', 'r', 't']]\n",
        "df.head()"
      ],
      "execution_count": 23,
      "outputs": [
        {
          "output_type": "execute_result",
          "data": {
            "text/html": [
              "<div>\n",
              "<style scoped>\n",
              "    .dataframe tbody tr th:only-of-type {\n",
              "        vertical-align: middle;\n",
              "    }\n",
              "\n",
              "    .dataframe tbody tr th {\n",
              "        vertical-align: top;\n",
              "    }\n",
              "\n",
              "    .dataframe thead th {\n",
              "        text-align: right;\n",
              "    }\n",
              "</style>\n",
              "<table border=\"1\" class=\"dataframe\">\n",
              "  <thead>\n",
              "    <tr style=\"text-align: right;\">\n",
              "      <th></th>\n",
              "      <th>h</th>\n",
              "      <th>r</th>\n",
              "      <th>t</th>\n",
              "    </tr>\n",
              "  </thead>\n",
              "  <tbody>\n",
              "    <tr>\n",
              "      <th>0</th>\n",
              "      <td>Belgium</td>\n",
              "      <td>country</td>\n",
              "      <td>Belgium</td>\n",
              "    </tr>\n",
              "    <tr>\n",
              "      <th>1</th>\n",
              "      <td>Belgium</td>\n",
              "      <td>diplomatic relation</td>\n",
              "      <td>Luxembourg</td>\n",
              "    </tr>\n",
              "    <tr>\n",
              "      <th>2</th>\n",
              "      <td>Belgium</td>\n",
              "      <td>diplomatic relation</td>\n",
              "      <td>Italy</td>\n",
              "    </tr>\n",
              "    <tr>\n",
              "      <th>3</th>\n",
              "      <td>Belgium</td>\n",
              "      <td>diplomatic relation</td>\n",
              "      <td>Germany</td>\n",
              "    </tr>\n",
              "    <tr>\n",
              "      <th>4</th>\n",
              "      <td>Belgium</td>\n",
              "      <td>diplomatic relation</td>\n",
              "      <td>Liechtenstein</td>\n",
              "    </tr>\n",
              "  </tbody>\n",
              "</table>\n",
              "</div>"
            ],
            "text/plain": [
              "         h                    r              t\n",
              "0  Belgium              country        Belgium\n",
              "1  Belgium  diplomatic relation     Luxembourg\n",
              "2  Belgium  diplomatic relation          Italy\n",
              "3  Belgium  diplomatic relation        Germany\n",
              "4  Belgium  diplomatic relation  Liechtenstein"
            ]
          },
          "metadata": {
            "tags": []
          },
          "execution_count": 23
        }
      ]
    },
    {
      "cell_type": "markdown",
      "metadata": {
        "id": "Qihbop5yFUgb"
      },
      "source": [
        "Here are unique relations with the number of triplets"
      ]
    },
    {
      "cell_type": "code",
      "metadata": {
        "colab": {
          "base_uri": "https://localhost:8080/"
        },
        "id": "tFlV-1OOFUgc",
        "outputId": "849e0fed-e95b-4b4b-ee4b-1ec2934250e1"
      },
      "source": [
        "df.r.groupby(df.r).count()"
      ],
      "execution_count": 24,
      "outputs": [
        {
          "output_type": "execute_result",
          "data": {
            "text/plain": [
              "r\n",
              "applies to jurisdiction                                        1\n",
              "basic form of government                                       3\n",
              "biological process                                             1\n",
              "capital                                                       34\n",
              "capital of                                                    25\n",
              "contains administrative territorial entity                    94\n",
              "country                                                     1339\n",
              "country of citizenship                                         5\n",
              "country of origin                                              1\n",
              "culture                                                        3\n",
              "designated as terrorist by                                     9\n",
              "different from                                               113\n",
              "diplomatic relation                                         6145\n",
              "enclave within                                                 3\n",
              "facet of                                                      13\n",
              "family                                                         1\n",
              "followed by                                                  332\n",
              "follows                                                      316\n",
              "founded by                                                    11\n",
              "has contributing factor                                        1\n",
              "has part                                                     121\n",
              "headquarters location                                          8\n",
              "history of topic                                               2\n",
              "instance of                                                   18\n",
              "located in present-day administrative territorial entity       7\n",
              "located in the administrative territorial entity             212\n",
              "located on terrain feature                                    13\n",
              "location                                                       5\n",
              "location of formation                                          1\n",
              "member of                                                     36\n",
              "merged into                                                    3\n",
              "named after                                                   14\n",
              "opposite of                                                    2\n",
              "owned by                                                       2\n",
              "part of                                                      121\n",
              "partially coincident with                                      4\n",
              "permanent duplicated item                                      2\n",
              "replaced by                                                  462\n",
              "replaces                                                     414\n",
              "said to be the same as                                         8\n",
              "separated from                                                15\n",
              "shares border with                                          1395\n",
              "significant event                                              6\n",
              "subclass of                                                    6\n",
              "territory claimed by                                          18\n",
              "territory overlaps                                             4\n",
              "time period                                                    8\n",
              "topic's main category                                          2\n",
              "twinned administrative body                                    2\n",
              "Name: r, dtype: int64"
            ]
          },
          "metadata": {
            "tags": []
          },
          "execution_count": 24
        }
      ]
    },
    {
      "cell_type": "markdown",
      "metadata": {
        "id": "1oyIrwx1FUgd"
      },
      "source": [
        "Convert our dataset into a TorchKGE knowledge graph"
      ]
    },
    {
      "cell_type": "code",
      "metadata": {
        "id": "mhU8SSybFUgd"
      },
      "source": [
        "kg = KnowledgeGraph(\n",
        "    pd.DataFrame(edges_labeled, columns=['from', 'to', 'rel']))"
      ],
      "execution_count": 25,
      "outputs": []
    },
    {
      "cell_type": "markdown",
      "metadata": {
        "id": "qV3k2WHSFUge"
      },
      "source": [
        "Split the dataset into train and test set. What differs from the standard method of randomly sampling N points to make up our test set, is that our data points are two entities linked by some relationship, and we need to take care to ensure that all entities are represented in train and test sets by at least one triple.\n",
        "\n"
      ]
    },
    {
      "cell_type": "code",
      "metadata": {
        "id": "51aJxmd4FUge"
      },
      "source": [
        "kg_train, kg_test = kg.split_kg()"
      ],
      "execution_count": 26,
      "outputs": []
    },
    {
      "cell_type": "markdown",
      "metadata": {
        "id": "zrxgTd1EFUgf"
      },
      "source": [
        "Create required objects: model, loss, optimizer and trainer."
      ]
    },
    {
      "cell_type": "code",
      "metadata": {
        "id": "t9fsg-EyFUgf"
      },
      "source": [
        "model = TransE(kg_train.n_ent, kg_train.n_rel, dim=64)\n",
        "criterion = MarginLoss(margin=0.5)\n",
        "optimizer = torch.optim.Adam(model.parameters(), lr=0.001)\n",
        "\n",
        "trainer = Trainer(\n",
        "    model, criterion, kg_train, n_epochs=200, \n",
        "    batch_size=2048, optimizer=optimizer)"
      ],
      "execution_count": 27,
      "outputs": []
    },
    {
      "cell_type": "markdown",
      "metadata": {
        "id": "mpib_ID4FUgg"
      },
      "source": [
        "During training, positive triplets are selected, negative triplets are generated, margin loss is calculated and then the gradient step is performed."
      ]
    },
    {
      "cell_type": "code",
      "metadata": {
        "colab": {
          "base_uri": "https://localhost:8080/",
          "height": 67,
          "referenced_widgets": [
            "bfc5d24ad3b444e4b0d2a39e7fab5f4b",
            "7858366c64be4e13ae5d367b6546ccb8",
            "56d7da15aabc4fe6849fc8472d65d243",
            "fffb2cf7c90f4cccb159d20f468a23b4",
            "2a98e25e657646759bb8f1579dee4e55",
            "2acafee2d02b4816a4ad8e9bf999da5c",
            "39be8949a1ef41ad86a2ba74baca2ba2",
            "cd8fbc457d0246afb088a4a597941ca2"
          ]
        },
        "id": "iCab041bFUgg",
        "outputId": "a7fc2397-c756-4aa8-dde1-a6d26ed73961"
      },
      "source": [
        "trainer.run()"
      ],
      "execution_count": 28,
      "outputs": [
        {
          "output_type": "display_data",
          "data": {
            "application/vnd.jupyter.widget-view+json": {
              "model_id": "bfc5d24ad3b444e4b0d2a39e7fab5f4b",
              "version_minor": 0,
              "version_major": 2
            },
            "text/plain": [
              "HBox(children=(FloatProgress(value=0.0, max=200.0), HTML(value='')))"
            ]
          },
          "metadata": {
            "tags": []
          }
        },
        {
          "output_type": "stream",
          "text": [
            "\n"
          ],
          "name": "stdout"
        }
      ]
    },
    {
      "cell_type": "markdown",
      "metadata": {
        "id": "MGujW7bZFUgh"
      },
      "source": [
        "Let us evaluate our model on the link prediction task"
      ]
    },
    {
      "cell_type": "code",
      "metadata": {
        "deletable": false,
        "editable": false,
        "nbgrader": {
          "cell_type": "code",
          "checksum": "3fdf16e46207c504dfec19a2800cd8b7",
          "grade": true,
          "grade_id": "cell-e6b0a4e916e8c503",
          "locked": true,
          "points": 2,
          "schema_version": 3,
          "solution": false,
          "task": false
        },
        "colab": {
          "base_uri": "https://localhost:8080/",
          "height": 67,
          "referenced_widgets": [
            "d2eb004fd8cb4a7d95723b85fc0a5ed2",
            "c7cad3c60ec34757a882a5a68cb66874",
            "767fe03d7aa44a4c96b3fb5092dd50d9",
            "3cd4eae9ac384a3b8de62883f90ffd53",
            "d5a307bf848e426097a394e387cd53a5",
            "723afc9b9d314a75bff94c012c86b7fa",
            "48464b9d5d734b69ad2abad26e5d9ea7",
            "1710e73400294707a043de5b802fa90d"
          ]
        },
        "id": "vMGvZxfEFUgh",
        "outputId": "47a684c0-a21d-4dc7-ab1c-0f2cf19a07c9"
      },
      "source": [
        "evaluator = LinkPredictionEvaluator(model, kg_test)\n",
        "evaluator.evaluate(b_size=128)\n",
        "\n",
        "assert evaluator.hit_at_k(k=10)[0] > 0.3\n",
        "assert evaluator.mean_rank()[0] < 70\n",
        "assert evaluator.mrr()[0] > 0.1"
      ],
      "execution_count": 29,
      "outputs": [
        {
          "output_type": "display_data",
          "data": {
            "application/vnd.jupyter.widget-view+json": {
              "model_id": "d2eb004fd8cb4a7d95723b85fc0a5ed2",
              "version_minor": 0,
              "version_major": 2
            },
            "text/plain": [
              "HBox(children=(FloatProgress(value=0.0, description='Link prediction evaluation', max=17.0, style=ProgressStyl…"
            ]
          },
          "metadata": {
            "tags": []
          }
        },
        {
          "output_type": "stream",
          "text": [
            "\n"
          ],
          "name": "stdout"
        }
      ]
    },
    {
      "cell_type": "code",
      "metadata": {
        "colab": {
          "base_uri": "https://localhost:8080/"
        },
        "id": "V6SQcu9wFUgh",
        "outputId": "cfd583ba-ab98-424e-972e-a708f1800204"
      },
      "source": [
        "print('Hit@10: {:.4f}'.format(evaluator.hit_at_k(k=10)[0]))\n",
        "print('Mean Rank: {:.4f}'.format(evaluator.mean_rank()[0]))\n",
        "print('MRR: {:.4f}'.format(evaluator.mrr()[0]))"
      ],
      "execution_count": 30,
      "outputs": [
        {
          "output_type": "stream",
          "text": [
            "Hit@10: 0.3729\n",
            "Mean Rank: 65.1693\n",
            "MRR: 0.1476\n"
          ],
          "name": "stdout"
        }
      ]
    },
    {
      "cell_type": "markdown",
      "metadata": {
        "id": "kHRkJ9p3FUgi"
      },
      "source": [
        "`Hit@k` indicates how many times in average a true triple was ranked in the top-k.\n",
        "\n",
        "`Mean Rank` is a mean rank of the true entity when replacing alternatively head and tail in any fact of the dataset.\n",
        "\n",
        "`MRR` is an average of mean recovery rank for head and tail replacement."
      ]
    },
    {
      "cell_type": "markdown",
      "metadata": {
        "id": "3iBN2r-HFUgj"
      },
      "source": [
        "### Task 3. 2D entity embedding (2 points)"
      ]
    },
    {
      "cell_type": "code",
      "metadata": {
        "id": "8jysSjhiFUgj"
      },
      "source": [
        "from sklearn.decomposition import TruncatedSVD\n",
        "from sklearn.cluster import k_means\n",
        "import matplotlib.pyplot as plt"
      ],
      "execution_count": 31,
      "outputs": []
    },
    {
      "cell_type": "markdown",
      "metadata": {
        "id": "-_11y5OrFUgk"
      },
      "source": [
        "Similarly to node embedding visualization, we can plot 2D embeddings of entities of knowledge graph.\n",
        "\n",
        "Write a function `ent_embeddgins` that takes the model, transforms entity embeddings into 2-dimenstional space via SVD, then finds 2 clusters via k-means and finally returns a tuple: np.array with embeddings and 0/1 labels of clusters."
      ]
    },
    {
      "cell_type": "code",
      "metadata": {
        "deletable": false,
        "nbgrader": {
          "cell_type": "code",
          "checksum": "17f1706f3d95cf3e2c3d9107ca211a69",
          "grade": false,
          "grade_id": "cell-c79123779965d790",
          "locked": false,
          "schema_version": 3,
          "solution": true,
          "task": false
        },
        "id": "uaL3_FPuFUgl"
      },
      "source": [
        "def ent_embeddgins(model):\n",
        "    # YOUR CODE HERE\n",
        "    # raise NotImplementedError()\n",
        "    svd = TruncatedSVD(n_components=2)\n",
        "    ent_emb = svd.fit_transform(model.get_embeddings()[0])\n",
        "    return ent_emb, k_means(ent_emb, n_clusters=2)[1]"
      ],
      "execution_count": 52,
      "outputs": []
    },
    {
      "cell_type": "code",
      "metadata": {
        "deletable": false,
        "editable": false,
        "nbgrader": {
          "cell_type": "code",
          "checksum": "635ba30fc4cecbebaba94724a89d4827",
          "grade": true,
          "grade_id": "cell-c4d5a66741d71c62",
          "locked": true,
          "points": 2,
          "schema_version": 3,
          "solution": false,
          "task": false
        },
        "id": "RY-sckYKFUgl"
      },
      "source": [
        "ent_emb, labels = ent_embeddgins(model)\n",
        "assert ent_emb.shape == (1810, 2)\n",
        "assert labels.shape == (1810,)\n",
        "n_label1 = (labels == 1).sum()\n",
        "n_label0 = (labels == 0).sum()\n",
        "assert 0.14 < min(n_label1, n_label0) / max(n_label1, n_label0) < 0.16"
      ],
      "execution_count": 53,
      "outputs": []
    },
    {
      "cell_type": "code",
      "metadata": {
        "id": "pQuoPLEwFUgm",
        "outputId": "561cbb7a-2c67-4b7c-cb61-6e698996c7a8",
        "colab": {
          "base_uri": "https://localhost:8080/",
          "height": 336
        }
      },
      "source": [
        "plt.figure(figsize=(8, 5))\n",
        "colors = np.array(plt.cm.tab10.colors)\n",
        "plt.scatter(ent_emb[:, 0], ent_emb[:, 1], s=10, c=colors[labels])\n",
        "plt.title('Entity embeddings')\n",
        "plt.show()"
      ],
      "execution_count": 54,
      "outputs": [
        {
          "output_type": "display_data",
          "data": {
            "image/png": "[encoded data removed]",
            "text/plain": [
              "<Figure size 576x360 with 1 Axes>"
            ]
          },
          "metadata": {
            "tags": [],
            "needs_background": "light"
          }
        }
      ]
    },
    {
      "cell_type": "markdown",
      "metadata": {
        "id": "VESuP943FUgm"
      },
      "source": [
        "Let us look at some randomly chosen entities from each cluster. Here we use `kg.ent2ix` dictionary to get labels of entities."
      ]
    },
    {
      "cell_type": "code",
      "metadata": {
        "id": "k8ipH0neFUgm",
        "outputId": "241c2e02-b609-4b5e-ced7-c20d0ecb61c6",
        "colab": {
          "base_uri": "https://localhost:8080/"
        }
      },
      "source": [
        "ent_labels = np.array(list(kg.ent2ix.keys()))\n",
        "print('First cluster: ', ', '.join(\n",
        "    np.random.permutation(ent_labels[labels == 0])[:10]))\n",
        "print()\n",
        "print('Second cluster: ', ', '.join(\n",
        "    np.random.permutation(ent_labels[labels == 1])[:10]))"
      ],
      "execution_count": 55,
      "outputs": [
        {
          "output_type": "stream",
          "text": [
            "First cluster:  Arunachal Pradesh, Cirebon Sultanate, Kingdom of Gera, Middle Francia, Ghurid dynasty, Yemen Arab Republic, Turkmen Soviet Socialist Republic, Kingdom of Greece, Duchy of Massa and Carrara, Malayan Union\n",
            "\n",
            "Second cluster:  Cuba, Artsakh, Moldova, British Empire, Niger, Italy, Colombia, Bulgaria, Canada, Samoa\n"
          ],
          "name": "stdout"
        }
      ]
    },
    {
      "cell_type": "markdown",
      "metadata": {
        "id": "AWgimvY6FUgn"
      },
      "source": [
        "### Task 4. Nearest neighbors of an entity (2 points)"
      ]
    },
    {
      "cell_type": "code",
      "metadata": {
        "id": "vb7Qnnx0FUgn"
      },
      "source": [
        "from sklearn.neighbors import NearestNeighbors"
      ],
      "execution_count": 56,
      "outputs": []
    },
    {
      "cell_type": "markdown",
      "metadata": {
        "id": "RxTsYQ73FUgo"
      },
      "source": [
        "Let us find a nearest neighbors of Belgium using embedding space.\n",
        "\n",
        "Write a function `similar_countries` that takes a name of country, graph and model and returns a list with names of nearest countries. Use `model.get_embeddings()`."
      ]
    },
    {
      "cell_type": "code",
      "metadata": {
        "deletable": false,
        "nbgrader": {
          "cell_type": "code",
          "checksum": "2914a4ae39cc291785e97e21b00d67ae",
          "grade": false,
          "grade_id": "cell-fe878bfa8dc0c817",
          "locked": false,
          "schema_version": 3,
          "solution": true,
          "task": false
        },
        "id": "O594OMfqFUgo"
      },
      "source": [
        "def similar_countries(name, kg, model):\n",
        "    # YOUR CODE HERE\n",
        "    # raise NotImplementedError()\n",
        "    ix = kg.ent2ix[name]\n",
        "    emb = model.get_embeddings()[0]\n",
        "    neigh = NearestNeighbors()\n",
        "    neigh.fit(emb)\n",
        "    ids_neigh = neigh.kneighbors(emb[ix].reshape(1, -1), 20, return_distance=False)\n",
        "    dict_c = dict(zip(kg.ent2ix.values(), kg.ent2ix.keys()))\n",
        "    n_countries = []\n",
        "    for id in ids_neigh[0]:\n",
        "      n_countries.append(dict_c[id])\n",
        "    return n_countries"
      ],
      "execution_count": 97,
      "outputs": []
    },
    {
      "cell_type": "code",
      "metadata": {
        "deletable": false,
        "editable": false,
        "nbgrader": {
          "cell_type": "code",
          "checksum": "4e88d5279728e100642339d7f1e4136e",
          "grade": true,
          "grade_id": "cell-0b8b02590a965cc3",
          "locked": true,
          "points": 2,
          "schema_version": 3,
          "solution": false,
          "task": false
        },
        "id": "LuHsWlCbFUgp",
        "outputId": "5b174773-c078-4bf4-b8aa-099faaf27996",
        "colab": {
          "base_uri": "https://localhost:8080/"
        }
      },
      "source": [
        "similar = similar_countries('Belgium', kg, model)\n",
        "assert 'Netherlands' in similar\n",
        "similar"
      ],
      "execution_count": 98,
      "outputs": [
        {
          "output_type": "execute_result",
          "data": {
            "text/plain": [
              "['Belgium',\n",
              " 'Luxembourg',\n",
              " 'Netherlands',\n",
              " 'France',\n",
              " 'Hungary',\n",
              " 'Germany',\n",
              " 'Kingdom of the Netherlands',\n",
              " 'Denmark',\n",
              " 'Japan',\n",
              " 'Switzerland',\n",
              " 'Greece',\n",
              " 'Taiwan',\n",
              " 'United States of America',\n",
              " 'Canada',\n",
              " 'Kosovo',\n",
              " 'Malaysia',\n",
              " 'Pakistan',\n",
              " \"People's Republic of China\",\n",
              " 'Russia',\n",
              " 'Israel']"
            ]
          },
          "metadata": {
            "tags": []
          },
          "execution_count": 98
        }
      ]
    },
    {
      "cell_type": "markdown",
      "metadata": {
        "id": "8kQjfquSFUgv"
      },
      "source": [
        "### Task 5. Relation prediction  (1.5 points)"
      ]
    },
    {
      "cell_type": "markdown",
      "metadata": {
        "id": "8PnXmrK9FUgv"
      },
      "source": [
        "Let us consider these facts:\n",
        "1. Belgium shares border with France\n",
        "2. Belgium shares border with Switzerland\n",
        "3. Belgium shares border with Nigeria\n",
        "\n",
        "Only the fact 1 is truth, but it seems that the fact 2 is more likely than 3."
      ]
    },
    {
      "cell_type": "code",
      "metadata": {
        "id": "CgUJAILqFUgw",
        "outputId": "1a101132-649b-401b-f161-db3a106b189d",
        "colab": {
          "base_uri": "https://localhost:8080/",
          "height": 112
        }
      },
      "source": [
        "df[(df.h == 'Belgium') & (df.t == 'France')]"
      ],
      "execution_count": 99,
      "outputs": [
        {
          "output_type": "execute_result",
          "data": {
            "text/html": [
              "<div>\n",
              "<style scoped>\n",
              "    .dataframe tbody tr th:only-of-type {\n",
              "        vertical-align: middle;\n",
              "    }\n",
              "\n",
              "    .dataframe tbody tr th {\n",
              "        vertical-align: top;\n",
              "    }\n",
              "\n",
              "    .dataframe thead th {\n",
              "        text-align: right;\n",
              "    }\n",
              "</style>\n",
              "<table border=\"1\" class=\"dataframe\">\n",
              "  <thead>\n",
              "    <tr style=\"text-align: right;\">\n",
              "      <th></th>\n",
              "      <th>h</th>\n",
              "      <th>r</th>\n",
              "      <th>t</th>\n",
              "    </tr>\n",
              "  </thead>\n",
              "  <tbody>\n",
              "    <tr>\n",
              "      <th>8</th>\n",
              "      <td>Belgium</td>\n",
              "      <td>diplomatic relation</td>\n",
              "      <td>France</td>\n",
              "    </tr>\n",
              "    <tr>\n",
              "      <th>32</th>\n",
              "      <td>Belgium</td>\n",
              "      <td>shares border with</td>\n",
              "      <td>France</td>\n",
              "    </tr>\n",
              "  </tbody>\n",
              "</table>\n",
              "</div>"
            ],
            "text/plain": [
              "          h                    r       t\n",
              "8   Belgium  diplomatic relation  France\n",
              "32  Belgium   shares border with  France"
            ]
          },
          "metadata": {
            "tags": []
          },
          "execution_count": 99
        }
      ]
    },
    {
      "cell_type": "code",
      "metadata": {
        "id": "UEVXTAdKFUgx",
        "outputId": "a0ffa3a4-66fc-4e28-ae9d-076d466e47c9",
        "colab": {
          "base_uri": "https://localhost:8080/",
          "height": 49
        }
      },
      "source": [
        "df[(df.h == 'Belgium') & (df.t == 'Switzerland')]"
      ],
      "execution_count": 100,
      "outputs": [
        {
          "output_type": "execute_result",
          "data": {
            "text/html": [
              "<div>\n",
              "<style scoped>\n",
              "    .dataframe tbody tr th:only-of-type {\n",
              "        vertical-align: middle;\n",
              "    }\n",
              "\n",
              "    .dataframe tbody tr th {\n",
              "        vertical-align: top;\n",
              "    }\n",
              "\n",
              "    .dataframe thead th {\n",
              "        text-align: right;\n",
              "    }\n",
              "</style>\n",
              "<table border=\"1\" class=\"dataframe\">\n",
              "  <thead>\n",
              "    <tr style=\"text-align: right;\">\n",
              "      <th></th>\n",
              "      <th>h</th>\n",
              "      <th>r</th>\n",
              "      <th>t</th>\n",
              "    </tr>\n",
              "  </thead>\n",
              "  <tbody>\n",
              "  </tbody>\n",
              "</table>\n",
              "</div>"
            ],
            "text/plain": [
              "Empty DataFrame\n",
              "Columns: [h, r, t]\n",
              "Index: []"
            ]
          },
          "metadata": {
            "tags": []
          },
          "execution_count": 100
        }
      ]
    },
    {
      "cell_type": "code",
      "metadata": {
        "id": "174o-O7iFUgx",
        "outputId": "10afa793-6861-4b18-e97a-13088864303f",
        "colab": {
          "base_uri": "https://localhost:8080/",
          "height": 49
        }
      },
      "source": [
        "df[(df.h == 'Belgium') & (df.t == 'Nigeria')]"
      ],
      "execution_count": 101,
      "outputs": [
        {
          "output_type": "execute_result",
          "data": {
            "text/html": [
              "<div>\n",
              "<style scoped>\n",
              "    .dataframe tbody tr th:only-of-type {\n",
              "        vertical-align: middle;\n",
              "    }\n",
              "\n",
              "    .dataframe tbody tr th {\n",
              "        vertical-align: top;\n",
              "    }\n",
              "\n",
              "    .dataframe thead th {\n",
              "        text-align: right;\n",
              "    }\n",
              "</style>\n",
              "<table border=\"1\" class=\"dataframe\">\n",
              "  <thead>\n",
              "    <tr style=\"text-align: right;\">\n",
              "      <th></th>\n",
              "      <th>h</th>\n",
              "      <th>r</th>\n",
              "      <th>t</th>\n",
              "    </tr>\n",
              "  </thead>\n",
              "  <tbody>\n",
              "  </tbody>\n",
              "</table>\n",
              "</div>"
            ],
            "text/plain": [
              "Empty DataFrame\n",
              "Columns: [h, r, t]\n",
              "Index: []"
            ]
          },
          "metadata": {
            "tags": []
          },
          "execution_count": 101
        }
      ]
    },
    {
      "cell_type": "markdown",
      "metadata": {
        "id": "0aAlwqNiFUgx"
      },
      "source": [
        "Now we can compare these facts using scoring function of TransE model to check our prior knowledge.\n",
        "\n",
        "Write a function `belgium_facts` that takes a model, a graph and returns 3 values of scoring function for each fact. Use `model.scoring_function` with `torch.no_grad()`."
      ]
    },
    {
      "cell_type": "code",
      "metadata": {
        "deletable": false,
        "nbgrader": {
          "cell_type": "code",
          "checksum": "d6b24f412af3938aadfd82f350222dcb",
          "grade": false,
          "grade_id": "cell-5feee5e866b961d0",
          "locked": false,
          "schema_version": 3,
          "solution": true,
          "task": false
        },
        "id": "o6xA1zdwFUgy"
      },
      "source": [
        "def belgium_facts(model, kg):\n",
        "    # YOUR CODE HERE\n",
        "    raise NotImplementedError()"
      ],
      "execution_count": null,
      "outputs": []
    },
    {
      "cell_type": "code",
      "metadata": {
        "deletable": false,
        "editable": false,
        "nbgrader": {
          "cell_type": "code",
          "checksum": "e44ce3f375e10b5aac1652d72d94b53f",
          "grade": true,
          "grade_id": "cell-a6b6e4e88ba6569f",
          "locked": true,
          "points": 1.5,
          "schema_version": 3,
          "solution": false,
          "task": false
        },
        "id": "DBABiRiAFUgy"
      },
      "source": [
        "scores = belgium_facts(model, kg)\n",
        "assert scores[0] > scores[1] > scores[2]\n",
        "scores"
      ],
      "execution_count": null,
      "outputs": []
    },
    {
      "cell_type": "markdown",
      "metadata": {
        "id": "9VV-wROAFUgz"
      },
      "source": [
        "### Task 6. Tail prediction (1.5 points)"
      ]
    },
    {
      "cell_type": "code",
      "metadata": {
        "id": "MBkIopnmFUg0"
      },
      "source": [
        "from sklearn.neighbors import NearestNeighbors"
      ],
      "execution_count": null,
      "outputs": []
    },
    {
      "cell_type": "markdown",
      "metadata": {
        "id": "OzCjpNK1FUg1"
      },
      "source": [
        "Recall that the main idea of TransE is to learn $h + r \\approx t$, so let us find the closest tails for the head + relation pair.\n",
        "\n",
        "Write a function `soviet_tail` that takes a model, graph and finds 5 nearest neighbors for the pair $h$ is \"Soviet Union\" and $r$ is \"founded by\"."
      ]
    },
    {
      "cell_type": "code",
      "metadata": {
        "deletable": false,
        "nbgrader": {
          "cell_type": "code",
          "checksum": "803dd88ce8a03a13810ab252b70a682e",
          "grade": false,
          "grade_id": "cell-dbc103d80a938c68",
          "locked": false,
          "schema_version": 3,
          "solution": true,
          "task": false
        },
        "id": "T2zxyMunFUg1"
      },
      "source": [
        "def soviet_tail(model, kg):\n",
        "    # YOUR CODE HERE\n",
        "    raise NotImplementedError()"
      ],
      "execution_count": null,
      "outputs": []
    },
    {
      "cell_type": "code",
      "metadata": {
        "deletable": false,
        "editable": false,
        "nbgrader": {
          "cell_type": "code",
          "checksum": "0c239093b99dc4fbeada6cdb59fdba6f",
          "grade": true,
          "grade_id": "cell-ba34f9e5a695e8ca",
          "locked": true,
          "points": 1.5,
          "schema_version": 3,
          "solution": false,
          "task": false
        },
        "id": "FvTH2wT1FUg2"
      },
      "source": [
        "tails = soviet_tail(model, kg)\n",
        "assert 'Russian Soviet Federative Socialist Republic' in tails\n",
        "tails"
      ],
      "execution_count": null,
      "outputs": []
    },
    {
      "cell_type": "code",
      "metadata": {
        "id": "Sk3cSMDCFUg2"
      },
      "source": [
        ""
      ],
      "execution_count": null,
      "outputs": []
    }
  ]
}