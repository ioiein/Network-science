{
  "nbformat": 4,
  "nbformat_minor": 0,
  "metadata": {
    "kernelspec": {
      "display_name": "Python 3",
      "language": "python",
      "name": "python3"
    },
    "language_info": {
      "codemirror_mode": {
        "name": "ipython",
        "version": 3
      },
      "file_extension": ".py",
      "mimetype": "text/x-python",
      "name": "python",
      "nbconvert_exporter": "python",
      "pygments_lexer": "ipython3",
      "version": "3.7.4"
    },
    "colab": {
      "name": "assignment.ipynb",
      "provenance": [],
      "include_colab_link": true
    }
  },
  "cells": [
    {
      "cell_type": "markdown",
      "metadata": {
        "id": "view-in-github",
        "colab_type": "text"
      },
      "source": [
        "<a href=\"https://colab.research.google.com/github/ioiein/Advanced-ML/blob/main/assignment%20(9).ipynb\" target=\"_parent\"><img src=\"https://colab.research.google.com/assets/colab-badge.svg\" alt=\"Open In Colab\"/></a>"
      ]
    },
    {
      "cell_type": "markdown",
      "metadata": {
        "id": "4Q1-zrnE1jjJ"
      },
      "source": [
        "# Assignment — Link Prediction"
      ]
    },
    {
      "cell_type": "code",
      "metadata": {
        "colab": {
          "base_uri": "https://localhost:8080/"
        },
        "id": "8aMX37_o1jjO",
        "outputId": "5c380c61-5a23-42a1-f163-a45158eb4f71"
      },
      "source": [
        "!pip install gensim==4.0.0 -q"
      ],
      "execution_count": null,
      "outputs": [
        {
          "output_type": "stream",
          "text": [
            "\u001b[K     |████████████████████████████████| 23.9MB 6.2MB/s \n",
            "\u001b[?25h"
          ],
          "name": "stdout"
        }
      ]
    },
    {
      "cell_type": "code",
      "metadata": {
        "colab": {
          "base_uri": "https://localhost:8080/"
        },
        "id": "BQ3QHAt91jjO",
        "outputId": "614eb62c-babc-423b-e2b9-5e47a6affd87"
      },
      "source": [
        "import pandas as pd\n",
        "import networkx as nx\n",
        "import numpy as np\n",
        "import matplotlib.pyplot as plt\n",
        "from gensim.models.word2vec import Word2Vec\n",
        "from sklearn.metrics import roc_curve, auc\n",
        "from tqdm.notebook import tqdm\n",
        "import requests\n",
        "from sklearn.decomposition import TruncatedSVD"
      ],
      "execution_count": null,
      "outputs": [
        {
          "output_type": "stream",
          "text": [
            "/usr/local/lib/python3.7/dist-packages/gensim/similarities/__init__.py:15: UserWarning: The gensim.similarities.levenshtein submodule is disabled, because the optional Levenshtein package <https://pypi.org/project/python-Levenshtein/> is unavailable. Install Levenhstein (e.g. `pip install python-Levenshtein`) to suppress this warning.\n",
            "  warnings.warn(msg)\n"
          ],
          "name": "stderr"
        }
      ]
    },
    {
      "cell_type": "code",
      "metadata": {
        "id": "P8IDW39U1jjP"
      },
      "source": [
        "url = 'https://raw.githubusercontent.com/netspractice/ml-on-graphs/main/datasets/email-Eu-core-temporal.txt'\n",
        "open('email-Eu-core-temporal.txt', 'wb').write(requests.get(url).content);\n"
      ],
      "execution_count": null,
      "outputs": []
    },
    {
      "cell_type": "markdown",
      "metadata": {
        "id": "LZ_-E-As1jjP"
      },
      "source": [
        "### Task 1. Similarity based link prediction (1.5 points)\n",
        "\n",
        "Consider link prediction on the [e-mails network](http://snap.stanford.edu/data/email-Eu-core-temporal.html) where nodes are members of a research institution and edges are e-mails given with timestamps. The goal is to predict occurrence of edges in the test time period using information from the train time period only."
      ]
    },
    {
      "cell_type": "code",
      "metadata": {
        "colab": {
          "base_uri": "https://localhost:8080/",
          "height": 204
        },
        "id": "LShmCkvM1jjQ",
        "outputId": "94498997-0c32-4482-ce10-d463fab0f86a"
      },
      "source": [
        "email_df = pd.read_csv(\n",
        "    'email-Eu-core-temporal.txt', \n",
        "    delimiter=' ', \n",
        "    names=['sender', 'receiver', 'timestamp']\n",
        ")\n",
        "email_df.head()"
      ],
      "execution_count": null,
      "outputs": [
        {
          "output_type": "execute_result",
          "data": {
            "text/html": [
              "<div>\n",
              "<style scoped>\n",
              "    .dataframe tbody tr th:only-of-type {\n",
              "        vertical-align: middle;\n",
              "    }\n",
              "\n",
              "    .dataframe tbody tr th {\n",
              "        vertical-align: top;\n",
              "    }\n",
              "\n",
              "    .dataframe thead th {\n",
              "        text-align: right;\n",
              "    }\n",
              "</style>\n",
              "<table border=\"1\" class=\"dataframe\">\n",
              "  <thead>\n",
              "    <tr style=\"text-align: right;\">\n",
              "      <th></th>\n",
              "      <th>sender</th>\n",
              "      <th>receiver</th>\n",
              "      <th>timestamp</th>\n",
              "    </tr>\n",
              "  </thead>\n",
              "  <tbody>\n",
              "    <tr>\n",
              "      <th>0</th>\n",
              "      <td>582</td>\n",
              "      <td>364</td>\n",
              "      <td>0</td>\n",
              "    </tr>\n",
              "    <tr>\n",
              "      <th>1</th>\n",
              "      <td>168</td>\n",
              "      <td>472</td>\n",
              "      <td>2797</td>\n",
              "    </tr>\n",
              "    <tr>\n",
              "      <th>2</th>\n",
              "      <td>168</td>\n",
              "      <td>912</td>\n",
              "      <td>3304</td>\n",
              "    </tr>\n",
              "    <tr>\n",
              "      <th>3</th>\n",
              "      <td>2</td>\n",
              "      <td>790</td>\n",
              "      <td>4523</td>\n",
              "    </tr>\n",
              "    <tr>\n",
              "      <th>4</th>\n",
              "      <td>2</td>\n",
              "      <td>322</td>\n",
              "      <td>7926</td>\n",
              "    </tr>\n",
              "  </tbody>\n",
              "</table>\n",
              "</div>"
            ],
            "text/plain": [
              "   sender  receiver  timestamp\n",
              "0     582       364          0\n",
              "1     168       472       2797\n",
              "2     168       912       3304\n",
              "3       2       790       4523\n",
              "4       2       322       7926"
            ]
          },
          "metadata": {
            "tags": []
          },
          "execution_count": 4
        }
      ]
    },
    {
      "cell_type": "markdown",
      "metadata": {
        "id": "VfyJqcyk1jjQ"
      },
      "source": [
        "Next, consider the following preprocessing procedure:\n",
        "1. Select edges by given train and test time periods, for example, [0, 1000) is train and [1000, 2000) is test\n",
        "2. Build a _core_ — a network where every edge occurs at least $k_\\text{train}$ times in the train time period or at least $k_\\text{test}$ times in the test time period. Let the core be undirected, so occurrences edges (1, 0) and (0, 1) are computed together.\n",
        "3. From the core, select a train set of edges $E_\\text{train}$ that occur for the first time in the train period. All others are included to $E_\\text{test}$.\n",
        "\n",
        "Write a function `train_test_edges` that takes a pd.DataFrame `email_df` with e-mail network, a tuple with the train time period borders `train_period`, say, (0, 1000), a similar tuple `test_period`, the number of edges occurrences `ktrain` and `ktest`. The function returns two lists with tuples — train and test edges. Every edge is returned of the form where the first node is less than the second, for example [(1, 2), (2, 3)] is ok, but [(2, 1), (3, 2)] is wrong."
      ]
    },
    {
      "cell_type": "code",
      "metadata": {
        "deletable": false,
        "nbgrader": {
          "cell_type": "code",
          "checksum": "d02465886cf63caec30af195db4cf5b9",
          "grade": false,
          "grade_id": "cell-676bd18fcab3c342",
          "locked": false,
          "schema_version": 3,
          "solution": true,
          "task": false
        },
        "id": "RCFoXTN21jjQ"
      },
      "source": [
        "def train_test_edges(email_df, train_period, test_period, ktrain, ktest):\n",
        "    \n",
        "    email_temp = email_df.copy()\n",
        "    email_temp = email_temp[\n",
        "        (train_period[0] <= email_temp.timestamp) \n",
        "        & (email_temp.timestamp < test_period[1])\n",
        "    ]\n",
        "    email_temp['from'] = email_temp[['sender', 'receiver']].min(axis=1)\n",
        "    email_temp['to'] = email_temp[['sender', 'receiver']].max(axis=1)\n",
        "    email_temp = email_temp.drop(['sender', 'receiver'], axis=1)\n",
        "    email_temp = email_temp.set_index(['from', 'to'])\n",
        "\n",
        "    email_train = email_temp[email_temp.timestamp < train_period[1]]\n",
        "    email_train = email_train.groupby(['from', 'to']).count()\n",
        "    train_core = email_train[email_train.timestamp >= ktrain].index.tolist()\n",
        "\n",
        "    email_test = email_temp[test_period[0] <= email_temp.timestamp]\n",
        "    email_test = email_test.groupby(['from', 'to']).count()\n",
        "    test_core = email_test[email_test.timestamp >= ktest].index.tolist()\n",
        "    \n",
        "    core = list(set(train_core + test_core))\n",
        "\n",
        "    # YOUR CODE HERE\n",
        "    # raise NotImplementedError()\n",
        "    train_set = set(core).intersection(set(email_train.index.tolist()))\n",
        "    test_set = set(core) - set(train_set)\n",
        "    train_list = list(train_set)\n",
        "    test_list = list(test_set)\n",
        "    return train_list, test_list"
      ],
      "execution_count": null,
      "outputs": []
    },
    {
      "cell_type": "code",
      "metadata": {
        "deletable": false,
        "editable": false,
        "nbgrader": {
          "cell_type": "code",
          "checksum": "e939a417ca65b5dda9b203cae7f317db",
          "grade": true,
          "grade_id": "cell-a77f2fa764e87595",
          "locked": true,
          "points": 0.75,
          "schema_version": 3,
          "solution": false,
          "task": false
        },
        "id": "wBcVYCvO1jjR"
      },
      "source": [
        "train_edges, test_edges = train_test_edges(email_df, (1e7, 2e7), (2e7, 2.5e7), 3, 3)\n",
        "_train_edges, _test_edges = np.array(train_edges), np.array(test_edges)\n",
        "assert np.all(_train_edges[:, 0] < _train_edges[:, 1])\n",
        "assert np.all(_test_edges[:, 0] < _test_edges[:, 1])\n",
        "assert len(set(train_edges).intersection(test_edges)) == 0\n",
        "assert _train_edges.shape == (4147, 2)\n",
        "assert _test_edges.shape == (418, 2)"
      ],
      "execution_count": null,
      "outputs": []
    },
    {
      "cell_type": "markdown",
      "metadata": {
        "id": "BdeLcA7T1jjR"
      },
      "source": [
        "The similarity based algorithm:\n",
        "1. Compute similarity matrix for all pairs of nodes except $E_\\text{train}$\n",
        "2. Order that pairs in descending of similarity\n",
        "3. Select some threshold and predict links for all pairs above the threshold\n",
        "\n",
        "Write a function `sim_link_prediction` that takes a list with train edges and test edges. The function predicts links and returns a tuple with metrics: \n",
        "* two np.arrays: FPR (false positive rate) and TPR (true positive rate) in descending of thresholds obtained by Jaccard coefficient, `nx.jaccard_coefficient`\n",
        "* the same, by Adamic/Adar index, `nx.adamic_adar_index`\n",
        "* the same, by resource allocation index, `nx.resource_allocation_index`\n",
        "\n",
        "_Hint: use `sklearn.metrics.roc_curve`._"
      ]
    },
    {
      "cell_type": "code",
      "metadata": {
        "deletable": false,
        "nbgrader": {
          "cell_type": "code",
          "checksum": "2ebf3dff3ce1e6932c56b81077849264",
          "grade": false,
          "grade_id": "cell-4125af6f7f2c4f56",
          "locked": false,
          "schema_version": 3,
          "solution": true,
          "task": false
        },
        "id": "f-PLs_7l1jjS"
      },
      "source": [
        "def sim_link_prediction(train_edges, test_edges):\n",
        "    \n",
        "    nodes = sorted(set(np.array(train_edges + test_edges).flatten()))\n",
        "    train_edges = set(train_edges)\n",
        "    test_edges = set(test_edges)\n",
        "    \n",
        "    G = nx.Graph()\n",
        "    G.add_nodes_from(nodes)\n",
        "    G.add_edges_from(train_edges)\n",
        "\n",
        "    to_compute = []\n",
        "    y_true = []\n",
        "    for node_i in G.nodes:\n",
        "      for node_j in G.nodes:\n",
        "        if node_i >= node_j: continue\n",
        "        if (node_i, node_j) in train_edges: continue\n",
        "        to_compute.append((node_i, node_j))\n",
        "        y_true.append(1 if (node_i, node_j) in test_edges else 0)\n",
        "    \n",
        "    res = []\n",
        "    for func in [nx.jaccard_coefficient, nx.adamic_adar_index, nx.resource_allocation_index]:\n",
        "      y_score = [p for u, v, p in func(G, to_compute)]\n",
        "      fpr, tpr, _ = roc_curve(y_true, y_score)\n",
        "      res.append((fpr, tpr))\n",
        "    \n",
        "    return res[0], res[1], res[2]"
      ],
      "execution_count": null,
      "outputs": []
    },
    {
      "cell_type": "code",
      "metadata": {
        "id": "yzhvgThO1jjS"
      },
      "source": [
        "jac, adam, res = sim_link_prediction(train_edges, test_edges)"
      ],
      "execution_count": null,
      "outputs": []
    },
    {
      "cell_type": "code",
      "metadata": {
        "deletable": false,
        "editable": false,
        "nbgrader": {
          "cell_type": "code",
          "checksum": "ef7bd24d5cf134488c9c1cfe1ac9fabd",
          "grade": true,
          "grade_id": "cell-ea34274053a92113",
          "locked": true,
          "points": 0.75,
          "schema_version": 3,
          "solution": false,
          "task": false
        },
        "id": "aly3cFpM1jjT"
      },
      "source": [
        "assert jac[0].shape == jac[1].shape\n",
        "assert adam[0].shape == adam[1].shape\n",
        "assert res[0].shape == res[1].shape\n",
        "assert round(auc(jac[0], jac[1]), 4) == 0.8371\n",
        "assert round(auc(adam[0], adam[1]), 4) == 0.8500\n",
        "assert round(auc(res[0], res[1]), 4) == 0.8495"
      ],
      "execution_count": null,
      "outputs": []
    },
    {
      "cell_type": "markdown",
      "metadata": {
        "id": "ipBMiLbT1jjT"
      },
      "source": [
        "Let us look at ROC AUC curve to compare similaritites."
      ]
    },
    {
      "cell_type": "code",
      "metadata": {
        "colab": {
          "base_uri": "https://localhost:8080/",
          "height": 404
        },
        "id": "0koN_jqG1jjT",
        "outputId": "84939631-2dd1-4fa1-aef6-07d6776d4ea6"
      },
      "source": [
        "plt.figure(figsize=(10, 6))\n",
        "cases = [[jac[0], jac[1], 'Jaccard'], \n",
        "         [adam[0], adam[1], 'Adamic/Adar'], \n",
        "         [res[0], res[1], 'Resource alloc.']]\n",
        "for fpr, tpr, label in cases:\n",
        "    plt.plot(fpr, tpr, lw=2, \n",
        "             label='{}, AUC={:.4f}'.format(label, auc(fpr, tpr)))\n",
        "plt.plot([0, 1], [0, 1], lw=2, linestyle='--', label='Random, AUC=0.5')\n",
        "plt.xlabel('FPR')\n",
        "plt.ylabel('TPR')\n",
        "plt.title('ROC AUC')\n",
        "plt.legend()\n",
        "plt.show()"
      ],
      "execution_count": null,
      "outputs": [
        {
          "output_type": "display_data",
          "data": {
            "image/png": "[encoded data removed]",
            "text/plain": [
              "<Figure size 720x432 with 1 Axes>"
            ]
          },
          "metadata": {
            "tags": [],
            "needs_background": "light"
          }
        }
      ]
    },
    {
      "cell_type": "markdown",
      "metadata": {
        "id": "APbUep_S1jjT"
      },
      "source": [
        "### Task 2. SVD node embeddings (1.5 points)"
      ]
    },
    {
      "cell_type": "markdown",
      "metadata": {
        "id": "4ungdLNL1jjU"
      },
      "source": [
        "Similarly to the node classification task, node embeddings could be helpful in the link prediction problem. The simplest way to obtain embeddings is to decompose some graph representation. However, in the given task, it could be helpful to factorize proximity matrices.\n",
        "\n",
        "Usually, graphs are sparse, so there is a high imbalance between positive (edge exists) and negative classes.\n",
        "To eliminate this problem, we can use the undersampling technique. \n",
        "\n",
        "The `negative_sampling` function should sample the unexisted edges from our graph, so they are the most similar by the number of common neighbors. The result is the list of tuples with pairs of nodes (similar to the `train_edges`) in descending similarity score."
      ]
    },
    {
      "cell_type": "code",
      "metadata": {
        "deletable": false,
        "nbgrader": {
          "cell_type": "code",
          "checksum": "45091ca1ea7b18f32d678d02a68a9466",
          "grade": false,
          "grade_id": "cell-e70de69be6e4bc1f",
          "locked": false,
          "schema_version": 3,
          "solution": true,
          "task": false
        },
        "id": "30yt0cH21jjU"
      },
      "source": [
        "def negative_sampling(train_edges, test_edges):\n",
        "    # YOUR CODE HERE\n",
        "    # raise NotImplementedError()\n",
        "    G = nx.Graph()\n",
        "    G.add_nodes_from(range(np.max(train_edges + test_edges) + 1))\n",
        "    G.add_edges_from(train_edges + test_edges)\n",
        "    A = nx.to_numpy_array(G)\n",
        "    sim = (A @ A) * (1 - A)\n",
        "    sim[range(sim.shape[0]), range(sim.shape[0])] = 0\n",
        "    sorting = np.argsort(sim[sim > 0])[::-1]\n",
        "    sample = np.argwhere(sim > 0)[sorting][:len(test_edges)*2:2]\n",
        "    return [(i, j) for i, j in sample]"
      ],
      "execution_count": null,
      "outputs": []
    },
    {
      "cell_type": "code",
      "metadata": {
        "deletable": false,
        "editable": false,
        "nbgrader": {
          "cell_type": "code",
          "checksum": "d48493ffe9afc1115b50bf88c493b4f4",
          "grade": true,
          "grade_id": "cell-4fdca557d2cdfd6a",
          "locked": true,
          "points": 1,
          "schema_version": 3,
          "solution": false,
          "task": false
        },
        "id": "Ps5jZ7YW1jjU"
      },
      "source": [
        "negatives = negative_sampling(train_edges, test_edges)\n",
        "assert len(negatives) == len(test_edges)\n",
        "assert len(set(negatives) & set(test_edges)) == 0\n",
        "assert negatives[0] == (90, 159)\n",
        "\n",
        "np.random.seed(0)\n",
        "validation = np.array(negatives + test_edges)[np.random.permutation(len(negatives) * 2)]\n",
        "y_true = [int(tuple(i) in test_edges) for i in validation]"
      ],
      "execution_count": null,
      "outputs": []
    },
    {
      "cell_type": "markdown",
      "metadata": {
        "id": "22IRG-fn1jjU"
      },
      "source": [
        "Here we obtain node embeddings via Truncated SVD of adjacency matrix of train edges."
      ]
    },
    {
      "cell_type": "code",
      "metadata": {
        "colab": {
          "base_uri": "https://localhost:8080/"
        },
        "id": "zKOdjx_I1jjU",
        "outputId": "bd21b9af-132a-4d74-9edd-a7e063673db8"
      },
      "source": [
        "G = nx.Graph()\n",
        "G.add_nodes_from(range(np.max(train_edges + test_edges) + 1))\n",
        "G.add_edges_from(train_edges)\n",
        "A = nx.to_numpy_array(G)\n",
        "embeddings = TruncatedSVD(n_components=4).fit_transform(A)\n",
        "embeddings.round(2)"
      ],
      "execution_count": null,
      "outputs": [
        {
          "output_type": "execute_result",
          "data": {
            "text/plain": [
              "array([[ 0.83, -0.92, -0.5 ,  2.35],\n",
              "       [ 0.05,  0.  , -0.04, -0.03],\n",
              "       [ 2.04,  0.85,  0.22,  0.73],\n",
              "       ...,\n",
              "       [ 0.01, -0.  , -0.01,  0.  ],\n",
              "       [ 0.14, -0.04, -0.11, -0.08],\n",
              "       [ 0.47, -0.46, -0.5 ,  1.39]])"
            ]
          },
          "metadata": {
            "tags": []
          },
          "execution_count": 13
        }
      ]
    },
    {
      "cell_type": "markdown",
      "metadata": {
        "id": "RgwaFPZO1jjV"
      },
      "source": [
        "Here you need to define `inner_product_decoder` function. It takes an array with node embeddings and a list of pairs of nodes. It should return np.array with the recovered score calculated by the dot product of embeddings for pairs of nodes `pairs`.\n",
        "\n",
        "$$e_{ij} = \\langle n_i, n_j\\rangle$$"
      ]
    },
    {
      "cell_type": "code",
      "metadata": {
        "deletable": false,
        "nbgrader": {
          "cell_type": "code",
          "checksum": "409023998692d746e51d655a977587ee",
          "grade": false,
          "grade_id": "cell-83922c7e554f2063",
          "locked": false,
          "schema_version": 3,
          "solution": true,
          "task": false
        },
        "id": "R6K0K5MB1jjV"
      },
      "source": [
        "def dot_product_decoder(embeddings, pairs):\n",
        "    # YOUR CODE HERE\n",
        "    # raise NotImplementedError()\n",
        "    edges = np.array(pairs)\n",
        "    return (embeddings[edges[:, 0]] * embeddings[edges[:, 1]]).sum(axis=1)"
      ],
      "execution_count": null,
      "outputs": []
    },
    {
      "cell_type": "code",
      "metadata": {
        "deletable": false,
        "editable": false,
        "nbgrader": {
          "cell_type": "code",
          "checksum": "281a20d0356849128d33d2b23cc31a20",
          "grade": true,
          "grade_id": "cell-78cc2ee184ce385f",
          "locked": true,
          "points": 0.5,
          "schema_version": 3,
          "solution": false,
          "task": false
        },
        "id": "q0IBL5151jjV"
      },
      "source": [
        "scores = dot_product_decoder(embeddings, validation)\n",
        "tpr, fpr, _ = roc_curve(y_true, scores)\n",
        "assert auc(fpr, tpr) > 0.9"
      ],
      "execution_count": null,
      "outputs": []
    },
    {
      "cell_type": "markdown",
      "metadata": {
        "id": "lxh-KdT91jjV"
      },
      "source": [
        "### Task 3. Edge embeddings (3 points)\n",
        "\n",
        "In the previous task, we train node level embeddings. However, for LPP, we need to have edge representation and decide whether to connect incident nodes or not.\n",
        "\n",
        "You will need to compare several techniques of edge embedding calculation from the [paper](https://peerj.com/articles/cs-172/#table-2).\n",
        "\n",
        "Compare the different vector aggregations as features for `sklearn.linear_model.LogisticRegression` with default hyperparameters.\n",
        "\n",
        "All following functions should return np.array with embeddings of edges from edges param."
      ]
    },
    {
      "cell_type": "markdown",
      "metadata": {
        "id": "K8X7Pzhz1jjV"
      },
      "source": [
        "Average operator is simple elementwise average of node embeddings"
      ]
    },
    {
      "cell_type": "code",
      "metadata": {
        "deletable": false,
        "nbgrader": {
          "cell_type": "code",
          "checksum": "58f462d94128ad39168d5c1651115bbc",
          "grade": false,
          "grade_id": "cell-26173c0c479136b7",
          "locked": false,
          "schema_version": 3,
          "solution": true,
          "task": false
        },
        "id": "5zHweJks1jjW"
      },
      "source": [
        "def average_operator(G, embeddings, edges):\n",
        "    # YOUR CODE HERE\n",
        "    raise NotImplementedError()"
      ],
      "execution_count": null,
      "outputs": []
    },
    {
      "cell_type": "code",
      "metadata": {
        "deletable": false,
        "editable": false,
        "nbgrader": {
          "cell_type": "code",
          "checksum": "874228c0783c34a20d142a24e7da33b8",
          "grade": true,
          "grade_id": "cell-eaefe9963be3c2d0",
          "locked": true,
          "points": 0.5,
          "schema_version": 3,
          "solution": false,
          "task": false
        },
        "id": "IfDzzH4w1jjW"
      },
      "source": [
        "G_train = nx.Graph()\n",
        "G_train.add_nodes_from(range(np.max(train_edges + test_edges) + 1))\n",
        "G_train.add_edges_from(train_edges)\n",
        "\n",
        "assert round(average_operator(G_train, embeddings, validation[:1])[0, 0], 4) == 2.0119"
      ],
      "execution_count": null,
      "outputs": []
    },
    {
      "cell_type": "markdown",
      "metadata": {
        "id": "2lJ9F4Ib1jjW"
      },
      "source": [
        "Hadamard product is an elementwise product of node embeddings"
      ]
    },
    {
      "cell_type": "code",
      "metadata": {
        "deletable": false,
        "nbgrader": {
          "cell_type": "code",
          "checksum": "dca0930cdead56210ac1d3ed38a1da2d",
          "grade": false,
          "grade_id": "cell-f662abe3d0579575",
          "locked": false,
          "schema_version": 3,
          "solution": true,
          "task": false
        },
        "id": "X-aOa8Fe1jjW"
      },
      "source": [
        "def hadamard_operator(G, embeddings, edges):\n",
        "    # YOUR CODE HERE\n",
        "    raise NotImplementedError()"
      ],
      "execution_count": null,
      "outputs": []
    },
    {
      "cell_type": "code",
      "metadata": {
        "deletable": false,
        "editable": false,
        "nbgrader": {
          "cell_type": "code",
          "checksum": "c9a1e0ecfbf15f60aa9ea3ec06e57286",
          "grade": true,
          "grade_id": "cell-db04660af550adc7",
          "locked": true,
          "points": 0.5,
          "schema_version": 3,
          "solution": false,
          "task": false
        },
        "id": "A-I2At0T1jjW"
      },
      "source": [
        "assert round(hadamard_operator(G_train, embeddings, validation[:1])[0, 0], 4) == 3.67"
      ],
      "execution_count": null,
      "outputs": []
    },
    {
      "cell_type": "markdown",
      "metadata": {
        "id": "fRQRW5QE1jjW"
      },
      "source": [
        "Weighted L1 is a absolute of elementwise difference between node embeddings"
      ]
    },
    {
      "cell_type": "code",
      "metadata": {
        "deletable": false,
        "nbgrader": {
          "cell_type": "code",
          "checksum": "d6257c4c2eb4680600acc5867ddba862",
          "grade": false,
          "grade_id": "cell-5e44fbdf6a64715d",
          "locked": false,
          "schema_version": 3,
          "solution": true,
          "task": false
        },
        "id": "62BsIa8X1jjX"
      },
      "source": [
        "def weighted_l1_operator(G, embeddings, edges):\n",
        "    # YOUR CODE HERE\n",
        "    raise NotImplementedError()"
      ],
      "execution_count": null,
      "outputs": []
    },
    {
      "cell_type": "code",
      "metadata": {
        "deletable": false,
        "editable": false,
        "nbgrader": {
          "cell_type": "code",
          "checksum": "0609233807610d14fa92236d17dba1e5",
          "grade": true,
          "grade_id": "cell-f2c7878af729fcb5",
          "locked": true,
          "points": 0.5,
          "schema_version": 3,
          "solution": false,
          "task": false
        },
        "id": "3Zq-RzaY1jjX"
      },
      "source": [
        "assert round(weighted_l1_operator(G_train, embeddings, validation[:1])[0, 0], 4) == 1.2295"
      ],
      "execution_count": null,
      "outputs": []
    },
    {
      "cell_type": "markdown",
      "metadata": {
        "id": "nvxA892f1jjX"
      },
      "source": [
        "Weighted L2 is a square of elementwise difference between node embeddings"
      ]
    },
    {
      "cell_type": "code",
      "metadata": {
        "deletable": false,
        "nbgrader": {
          "cell_type": "code",
          "checksum": "c81ca1cb9941e2216cb755dcb6b1d6df",
          "grade": false,
          "grade_id": "cell-0f7f5b3663337374",
          "locked": false,
          "schema_version": 3,
          "solution": true,
          "task": false
        },
        "id": "gF3WbDf71jjX"
      },
      "source": [
        "def weighted_l2_operator(G, embeddings, edges):\n",
        "    # YOUR CODE HERE\n",
        "    raise NotImplementedError()"
      ],
      "execution_count": null,
      "outputs": []
    },
    {
      "cell_type": "code",
      "metadata": {
        "deletable": false,
        "editable": false,
        "nbgrader": {
          "cell_type": "code",
          "checksum": "3afd88466887f2615749cf3038537f90",
          "grade": true,
          "grade_id": "cell-957e1faea3e9127d",
          "locked": true,
          "points": 0.5,
          "schema_version": 3,
          "solution": false,
          "task": false
        },
        "id": "lN-DdS5w1jjY"
      },
      "source": [
        "assert round(weighted_l2_operator(G_train, embeddings, validation[:1])[0, 0], 4) == 1.5116"
      ],
      "execution_count": null,
      "outputs": []
    },
    {
      "cell_type": "markdown",
      "metadata": {
        "id": "59YD3wTu1jjY"
      },
      "source": [
        "Neighbor weighted L1 is a absolute of elementwise difference between mean embeddings of node neigbors with itself"
      ]
    },
    {
      "cell_type": "code",
      "metadata": {
        "deletable": false,
        "nbgrader": {
          "cell_type": "code",
          "checksum": "91862e3967ecf48894e45a0adf8af354",
          "grade": false,
          "grade_id": "cell-9663ec4df9dbb751",
          "locked": false,
          "schema_version": 3,
          "solution": true,
          "task": false
        },
        "id": "fHermHSb1jjY"
      },
      "source": [
        "def neighbor_weighted_l1_operator(G, embeddings, edges):\n",
        "    # YOUR CODE HERE\n",
        "    raise NotImplementedError()"
      ],
      "execution_count": null,
      "outputs": []
    },
    {
      "cell_type": "code",
      "metadata": {
        "deletable": false,
        "editable": false,
        "nbgrader": {
          "cell_type": "code",
          "checksum": "24fc6e78f8d7b7db7e969208f03fd3ad",
          "grade": true,
          "grade_id": "cell-fe7f124fa265373c",
          "locked": true,
          "points": 0.5,
          "schema_version": 3,
          "solution": false,
          "task": false
        },
        "id": "m182IpE41jjY"
      },
      "source": [
        "assert round(neighbor_weighted_l1_operator(G_train, embeddings, validation[:1])[0, 0], 4) == 0.7193"
      ],
      "execution_count": null,
      "outputs": []
    },
    {
      "cell_type": "markdown",
      "metadata": {
        "id": "X-yAY8Vh1jjY"
      },
      "source": [
        "Neighbor weighted L1 is a square of elementwise difference between mean embeddings of node neigbors with itself"
      ]
    },
    {
      "cell_type": "code",
      "metadata": {
        "deletable": false,
        "nbgrader": {
          "cell_type": "code",
          "checksum": "6fe87475999a79b39066260f060f80ca",
          "grade": false,
          "grade_id": "cell-cb55782d381636cd",
          "locked": false,
          "schema_version": 3,
          "solution": true,
          "task": false
        },
        "id": "l5px27cW1jjY"
      },
      "source": [
        "def neighbor_weighted_l2_operator(G, embeddings, edges):\n",
        "    # YOUR CODE HERE\n",
        "    raise NotImplementedError()"
      ],
      "execution_count": null,
      "outputs": []
    },
    {
      "cell_type": "code",
      "metadata": {
        "deletable": false,
        "editable": false,
        "nbgrader": {
          "cell_type": "code",
          "checksum": "870fed8c2c6bd79c9607f76c86beb27e",
          "grade": true,
          "grade_id": "cell-b3ea740a7d8e7422",
          "locked": true,
          "points": 0.5,
          "schema_version": 3,
          "solution": false,
          "task": false
        },
        "id": "LjNwSQ8h1jjZ"
      },
      "source": [
        "assert round(neighbor_weighted_l2_operator(G_train, embeddings, validation[:1])[0, 0], 4) == 0.5174"
      ],
      "execution_count": null,
      "outputs": []
    },
    {
      "cell_type": "code",
      "metadata": {
        "id": "I78Wijs01jjZ"
      },
      "source": [
        "from sklearn.linear_model import LogisticRegression\n",
        "\n",
        "operators = {\n",
        "    \"average_operator\": average_operator,\n",
        "    \"hadamard_operator\": hadamard_operator,\n",
        "    \"weighted_l1_operator\": weighted_l1_operator,\n",
        "    \"weighted_l2_operator\": weighted_l2_operator,\n",
        "    \"neighbor_weighted_l1_operator\": neighbor_weighted_l1_operator,\n",
        "    \"neighbor_weighted_l2_operator\": neighbor_weighted_l2_operator\n",
        "}\n",
        "\n",
        "train_split = int(len(validation) * 0.8)\n",
        "res = {}\n",
        "for nm, f in operators.items():\n",
        "    lr = LogisticRegression()\n",
        "    e = f(G_train, embeddings, validation)\n",
        "    lr.fit(e[:train_split], y_true[:train_split])\n",
        "    preds = lr.predict_proba(e[train_split:])[:, 1]\n",
        "    fpr, tpr, _ = roc_curve(y_true[train_split:], preds)\n",
        "    res[nm] = {\n",
        "        'fpr': fpr,\n",
        "        'tpr': tpr\n",
        "    }"
      ],
      "execution_count": null,
      "outputs": []
    },
    {
      "cell_type": "code",
      "metadata": {
        "id": "v2koaK0O1jjZ"
      },
      "source": [
        "plt.figure(figsize=(10, 6))\n",
        "for label, v in res.items():\n",
        "    fpr, tpr = v['fpr'], v['tpr']\n",
        "    plt.plot(fpr, tpr, lw=2, \n",
        "             label='{}, AUC={:.4f}'.format(label, auc(fpr, tpr)))\n",
        "plt.plot([0, 1], [0, 1], lw=2, linestyle='--', label='Random, AUC=0.5')\n",
        "plt.xlabel('FPR')\n",
        "plt.ylabel('TPR')\n",
        "plt.title('ROC AUC')\n",
        "plt.legend()\n",
        "plt.show()"
      ],
      "execution_count": null,
      "outputs": []
    },
    {
      "cell_type": "markdown",
      "metadata": {
        "id": "lUEQa1oa1jjZ"
      },
      "source": [
        "### Task 4. Walklets (4 points)\n",
        "\n",
        "Walklets (Perozzi, Kulkarni & Skiena, 2016) use a weighted combination of embeddings of powers of adjacency matrix $A$, $A^2$, …, $A^k$ to reduce the bias of Deepwalk for low-order proximities, and approximates computing $A^i$ by skipping nodes using short random walks (Perozzi et al., 2017).\n",
        "\n",
        "The general idea is that we need to catch global graph level information for the link prediction task, not only local neighbourhood like in case with DeepWalks.\n",
        "\n",
        "Firstly, we need to sample some random walks. You can take this function from the last task of the node classification assignment."
      ]
    },
    {
      "cell_type": "code",
      "metadata": {
        "deletable": false,
        "nbgrader": {
          "cell_type": "code",
          "checksum": "999ee0e8c86557f2448d8a05ed3037b7",
          "grade": false,
          "grade_id": "cell-15f0d69f9b2d6d42",
          "locked": false,
          "schema_version": 3,
          "solution": true,
          "task": false
        },
        "id": "DI_f2wDq1jjZ"
      },
      "source": [
        "def random_walks(G, n_walks, path_length):\n",
        "    # YOUR CODE HERE\n",
        "    raise NotImplementedError()"
      ],
      "execution_count": null,
      "outputs": []
    },
    {
      "cell_type": "code",
      "metadata": {
        "deletable": false,
        "editable": false,
        "nbgrader": {
          "cell_type": "code",
          "checksum": "9937c02caa2d7ad7e99b552acd58cad1",
          "grade": true,
          "grade_id": "cell-1832ce04312cc4a9",
          "locked": true,
          "points": 0,
          "schema_version": 3,
          "solution": false,
          "task": false
        },
        "id": "nnVPATg11jjZ"
      },
      "source": [
        "G = nx.karate_club_graph()\n",
        "walks = random_walks(G, 10, 5)\n",
        "\n",
        "assert walks.shape == (34*10, 5)\n",
        "for i, j in zip(walks[0, :-1], walks[0, 1:]):\n",
        "    assert G.has_edge(i, j)\n",
        "assert np.all(walks[:, 0] == np.repeat(np.arange(34), 10))"
      ],
      "execution_count": null,
      "outputs": []
    },
    {
      "cell_type": "markdown",
      "metadata": {
        "id": "qagRPBT31jja"
      },
      "source": [
        "When we have random walks, we can add skips to them. Function `make_skips` separates a random walk `walk` on the several walks with steps between each `node` equal to the `length`. It returns list of lists with random walks with skips steps, look at asserts."
      ]
    },
    {
      "cell_type": "code",
      "metadata": {
        "deletable": false,
        "nbgrader": {
          "cell_type": "code",
          "checksum": "ef6cde6b4a47cdb4f400c2f946674cb0",
          "grade": false,
          "grade_id": "cell-94ff0150d47246f3",
          "locked": false,
          "schema_version": 3,
          "solution": true,
          "task": false
        },
        "id": "VJw0jh0j1jja"
      },
      "source": [
        "def make_skips(walk, length):\n",
        "    # YOUR CODE HERE\n",
        "    raise NotImplementedError()"
      ],
      "execution_count": null,
      "outputs": []
    },
    {
      "cell_type": "code",
      "metadata": {
        "deletable": false,
        "editable": false,
        "nbgrader": {
          "cell_type": "code",
          "checksum": "ec930c9477b5419e5b679741736045bc",
          "grade": true,
          "grade_id": "cell-cf0f3db3a583d5c7",
          "locked": true,
          "points": 1,
          "schema_version": 3,
          "solution": false,
          "task": false
        },
        "id": "dF2MEfTJ1jja"
      },
      "source": [
        "walk = [0, 1, 2, 3, 4, 5, 6, 7, 8, 9]\n",
        "assert make_skips(walk, 2) == [[0, 2, 4, 6, 8], [1, 3, 5, 7, 9], [2, 4, 6, 8]]\n",
        "assert make_skips(walk, 3) == [[0, 3, 6, 9], [1, 4, 7], [2, 5, 8], [3, 6, 9]]\n",
        "\n",
        "skipped = make_skips(walks[0], 2)\n",
        "assert len(skipped) == 3\n",
        "assert len(skipped[1]) == 2"
      ],
      "execution_count": null,
      "outputs": []
    },
    {
      "cell_type": "markdown",
      "metadata": {
        "id": "Jkr5NzYe1jja"
      },
      "source": [
        "Now, you need to define the function that will extract random walks with skips from the list of random walks and return another list of random walks, but with skips"
      ]
    },
    {
      "cell_type": "code",
      "metadata": {
        "deletable": false,
        "nbgrader": {
          "cell_type": "code",
          "checksum": "f484788abab4ae524f6926f288958dcc",
          "grade": false,
          "grade_id": "cell-37b67a0e80a3f3d3",
          "locked": false,
          "schema_version": 3,
          "solution": true,
          "task": false
        },
        "id": "rMNvlHwD1jja"
      },
      "source": [
        "def make_skips_dataset(input_walks, length):\n",
        "    # YOUR CODE HERE\n",
        "    raise NotImplementedError()"
      ],
      "execution_count": null,
      "outputs": []
    },
    {
      "cell_type": "code",
      "metadata": {
        "deletable": false,
        "editable": false,
        "nbgrader": {
          "cell_type": "code",
          "checksum": "99f3f0d4498d0567379f7c5dd7a29e4b",
          "grade": true,
          "grade_id": "cell-92b5dc686df237f5",
          "locked": true,
          "points": 1,
          "schema_version": 3,
          "solution": false,
          "task": false
        },
        "id": "Mc4lO02b1jja"
      },
      "source": [
        "example_walks = [[0, 2, 4, 6, 8], [1, 3, 5, 7, 9], [2, 4, 6, 8]]\n",
        "assert (\n",
        "    make_skips_dataset(example_walks, 2) == \n",
        "    [[0, 4, 8], [2, 6], [4, 8], [1, 5, 9], [3, 7], [5, 9], [2, 6], [4, 8], [6]]\n",
        ")\n",
        "\n",
        "skipped = make_skips_dataset(walks, 2)\n",
        "assert len(skipped) == 1020\n",
        "assert len(skipped[1]) == 2"
      ],
      "execution_count": null,
      "outputs": []
    },
    {
      "cell_type": "markdown",
      "metadata": {
        "id": "gd5_AmWR1jjb"
      },
      "source": [
        "To train embedding you need to know the set of nodes, sampled random walks without skips, size of the maximal desired skip (window_size) and dimension of embedding for the one skip.\n",
        "\n",
        "The function `train_embedding` should work as follows:\n",
        "For each skip_length between `1` and `window_size + 1`\n",
        "1. Create dataset with splits\n",
        "2. Train Word2Vec model on the created dataset with given vector_size, min_count=1, sg=1 and window=1.\n",
        "3. save embeddings for the given step\n",
        "\n",
        "After all iterations you need to take a mean of received embeddings for a node from each step. Finally, we return np.array with embeddings ordered by the id of node, if node id has no embedding, then use `np.zeros(vector_size)`"
      ]
    },
    {
      "cell_type": "code",
      "metadata": {
        "deletable": false,
        "nbgrader": {
          "cell_type": "code",
          "checksum": "479b96a3128918aa5733075c2790032a",
          "grade": false,
          "grade_id": "cell-2dd995c4351416bf",
          "locked": false,
          "schema_version": 3,
          "solution": true,
          "task": false
        },
        "id": "0RkP-Cx31jjb"
      },
      "source": [
        "def train_embedding(nodes, walks, window_size=5, vector_size=8):\n",
        "    # YOUR CODE HERE\n",
        "    raise NotImplementedError()"
      ],
      "execution_count": null,
      "outputs": []
    },
    {
      "cell_type": "code",
      "metadata": {
        "deletable": false,
        "editable": false,
        "nbgrader": {
          "cell_type": "code",
          "checksum": "af52d1a8cbeeca09fbce3061ba8f5601",
          "grade": true,
          "grade_id": "cell-caa5c52f4660af25",
          "locked": true,
          "points": 1,
          "schema_version": 3,
          "solution": false,
          "task": false
        },
        "id": "QgS7Z2K01jjb"
      },
      "source": [
        "np.random.seed(0)\n",
        "G = nx.Graph(train_edges)\n",
        "nodes = np.arange(np.max(train_edges + test_edges) + 1)\n",
        "walks = random_walks(G, 10, 5)\n",
        "embeddings = train_embedding(nodes, walks)\n",
        "assert embeddings.shape == (1005, 8)"
      ],
      "execution_count": null,
      "outputs": []
    },
    {
      "cell_type": "code",
      "metadata": {
        "deletable": false,
        "editable": false,
        "nbgrader": {
          "cell_type": "code",
          "checksum": "c1410f833896a4f7328c159e9a876187",
          "grade": true,
          "grade_id": "cell-98cf8c96d4d4ad52",
          "locked": true,
          "points": 1,
          "schema_version": 3,
          "solution": false,
          "task": false
        },
        "id": "mrpTv-XU1jjb"
      },
      "source": [
        "operators = {\n",
        "    \"average_operator\": average_operator,\n",
        "    \"hadamard_operator\": hadamard_operator,\n",
        "    \"weighted_l1_operator\": weighted_l1_operator,\n",
        "    \"weighted_l2_operator\": weighted_l2_operator,\n",
        "    \"neighbor_weighted_l1_operator\": neighbor_weighted_l1_operator,\n",
        "    \"neighbor_weighted_l2_operator\": neighbor_weighted_l2_operator\n",
        "}\n",
        "\n",
        "train_split = int(len(validation) * 0.8)\n",
        "res = {}\n",
        "for nm, f in operators.items():\n",
        "    lr = LogisticRegression()\n",
        "    e = f(G_train, embeddings, validation)\n",
        "    lr.fit(e[:train_split], y_true[:train_split])\n",
        "    preds = lr.predict_proba(e[train_split:])[:, 1]\n",
        "    fpr, tpr, _ = roc_curve(y_true[train_split:], preds)\n",
        "    res[nm] = {\n",
        "        'fpr': fpr,\n",
        "        'tpr': tpr\n",
        "    }\n",
        "\n",
        "fpr = res['neighbor_weighted_l1_operator']['fpr']\n",
        "tpr = res['neighbor_weighted_l1_operator']['tpr']\n",
        "assert auc(fpr, tpr) > 0.6"
      ],
      "execution_count": null,
      "outputs": []
    },
    {
      "cell_type": "code",
      "metadata": {
        "id": "AcG2rBHE1jjb"
      },
      "source": [
        "plt.figure(figsize=(10, 6))\n",
        "for label, v in res.items():\n",
        "    fpr, tpr = v['fpr'], v['tpr']\n",
        "    plt.plot(fpr, tpr, lw=2, \n",
        "             label='{}, AUC={:.4f}'.format(label, auc(fpr, tpr)))\n",
        "plt.plot([0, 1], [0, 1], lw=2, linestyle='--', label='Random, AUC=0.5')\n",
        "plt.xlabel('FPR')\n",
        "plt.ylabel('TPR')\n",
        "plt.title('ROC AUC')\n",
        "plt.legend()\n",
        "plt.show()"
      ],
      "execution_count": null,
      "outputs": []
    },
    {
      "cell_type": "code",
      "metadata": {
        "id": "6xMZbZ241jjb"
      },
      "source": [
        ""
      ],
      "execution_count": null,
      "outputs": []
    }
  ]
}