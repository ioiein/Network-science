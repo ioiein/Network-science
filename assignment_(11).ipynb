{
  "nbformat": 4,
  "nbformat_minor": 0,
  "metadata": {
    "kernelspec": {
      "display_name": "Python 3",
      "language": "python",
      "name": "python3"
    },
    "language_info": {
      "codemirror_mode": {
        "name": "ipython",
        "version": 3
      },
      "file_extension": ".py",
      "mimetype": "text/x-python",
      "name": "python",
      "nbconvert_exporter": "python",
      "pygments_lexer": "ipython3",
      "version": "3.7.4"
    },
    "colab": {
      "name": "assignment (11).ipynb",
      "provenance": [],
      "include_colab_link": true
    }
  },
  "cells": [
    {
      "cell_type": "markdown",
      "metadata": {
        "id": "view-in-github",
        "colab_type": "text"
      },
      "source": [
        "<a href=\"https://colab.research.google.com/github/ioiein/Network-science/blob/main/assignment_(11).ipynb\" target=\"_parent\"><img src=\"https://colab.research.google.com/assets/colab-badge.svg\" alt=\"Open In Colab\"/></a>"
      ]
    },
    {
      "cell_type": "markdown",
      "metadata": {
        "id": "EmqQAJGP3i4q"
      },
      "source": [
        "# Assignment — Graph Neural Networks"
      ]
    },
    {
      "cell_type": "code",
      "metadata": {
        "id": "ZDzrXWP83i4w",
        "outputId": "4a40bb9b-9ef9-4cb2-fc11-75a150f2003c",
        "colab": {
          "base_uri": "https://localhost:8080/"
        }
      },
      "source": [
        "!pip install torch -q\n",
        "!pip install dgl==0.6 -q"
      ],
      "execution_count": 1,
      "outputs": [
        {
          "output_type": "stream",
          "text": [
            "\u001b[K     |████████████████████████████████| 4.2MB 7.2MB/s \n",
            "\u001b[?25h"
          ],
          "name": "stdout"
        }
      ]
    },
    {
      "cell_type": "code",
      "metadata": {
        "id": "2cFPpMSz3i4y",
        "outputId": "2fd4efc5-0ba2-4117-99b6-0f096659920b",
        "colab": {
          "base_uri": "https://localhost:8080/"
        }
      },
      "source": [
        "import dgl\n",
        "from dgl.data import CoraGraphDataset\n",
        "from dgl import function as fn\n",
        "from dgl.nn import GATConv, SAGEConv\n",
        "\n",
        "from sklearn.linear_model import LogisticRegression\n",
        "from sklearn.metrics import balanced_accuracy_score\n",
        "from sklearn.model_selection import train_test_split\n",
        "from sklearn.preprocessing import minmax_scale\n",
        "\n",
        "import torch\n",
        "import torch.nn as nn\n",
        "import torch.nn.functional as F\n",
        "\n",
        "import networkx as nx\n",
        "import numpy as np\n",
        "import matplotlib.pyplot as plt\n",
        "from zlib import adler32\n",
        "from IPython.display import clear_output"
      ],
      "execution_count": 2,
      "outputs": [
        {
          "output_type": "stream",
          "text": [
            "DGL backend not selected or invalid.  Assuming PyTorch for now.\n"
          ],
          "name": "stderr"
        },
        {
          "output_type": "stream",
          "text": [
            "Setting the default backend to \"pytorch\". You can change it in the ~/.dgl/config.json file or export the DGLBACKEND environment variable.  Valid options are: pytorch, mxnet, tensorflow (all lowercase)\n"
          ],
          "name": "stdout"
        },
        {
          "output_type": "stream",
          "text": [
            "Using backend: pytorch\n"
          ],
          "name": "stderr"
        }
      ]
    },
    {
      "cell_type": "markdown",
      "metadata": {
        "id": "mcQ0aGX43i4z"
      },
      "source": [
        "### PyTorch quick start"
      ]
    },
    {
      "cell_type": "markdown",
      "metadata": {
        "id": "RduNxLR63i40"
      },
      "source": [
        "Here are the basics of PyTourch. Skip this section if you are familiar with this material. \n",
        "\n",
        "We want to find a function that as close as possible to the sin with some noise \n",
        "\n",
        "$$y = \\sin(x) + \\varepsilon$$\n",
        "\n",
        "First, let us generate the point cloud."
      ]
    },
    {
      "cell_type": "code",
      "metadata": {
        "id": "xbdV6qtA3i41",
        "outputId": "d5c00d6f-13d5-4de1-c2de-3f65873e33c4",
        "colab": {
          "base_uri": "https://localhost:8080/",
          "height": 269
        }
      },
      "source": [
        "N = 1000\n",
        "X = np.linspace(-10, 10, N)\n",
        "np.random.seed(0)\n",
        "y = np.sin(X) + np.random.normal(0, 0.2, N)\n",
        "X = minmax_scale(X, (-1, 1))\n",
        "y = minmax_scale(y, (-1, 1))\n",
        "plt.scatter(X, y, s=3)\n",
        "plt.ylim(-1.5, 1.5);"
      ],
      "execution_count": 3,
      "outputs": [
        {
          "output_type": "display_data",
          "data": {
            "image/png": "[encoded data removed]",
            "text/plain": [
              "<Figure size 432x288 with 1 Axes>"
            ]
          },
          "metadata": {
            "tags": [],
            "needs_background": "light"
          }
        }
      ]
    },
    {
      "cell_type": "markdown",
      "metadata": {
        "id": "XRGqezgM3i42"
      },
      "source": [
        "Next, convert np.arrays into tensors via `torch.FloatTensor` (float type) or `torch.LongTensor` (int type)."
      ]
    },
    {
      "cell_type": "code",
      "metadata": {
        "id": "CvWo4BQu3i43"
      },
      "source": [
        "X_tensor = torch.FloatTensor(X[:, None])\n",
        "y_tensor = torch.FloatTensor(y[:, None])"
      ],
      "execution_count": 4,
      "outputs": []
    },
    {
      "cell_type": "markdown",
      "metadata": {
        "id": "HeX7FfxT3i44"
      },
      "source": [
        "Build a model, here is a simple shallow perceptron with layer sizes $1 \\to 64 \\to 64 \\to 1$ so that\n",
        "\n",
        "$$y = f(x)$$\n",
        "\n",
        "where $f$ is a neural net, $x$ is a given input real value, $y$ is a output real value."
      ]
    },
    {
      "cell_type": "code",
      "metadata": {
        "id": "hIhxmZUZ3i45"
      },
      "source": [
        "model = nn.Sequential(nn.Linear(1, 64),\n",
        "                      nn.ReLU(),\n",
        "                      nn.Linear(64, 64),\n",
        "                      nn.ReLU(),\n",
        "                      nn.Linear(64, 1))"
      ],
      "execution_count": 5,
      "outputs": []
    },
    {
      "cell_type": "markdown",
      "metadata": {
        "id": "xs5uug_B3i46"
      },
      "source": [
        "the loss function be mean squeared error between the true dependency and approximation.\n",
        "\n",
        "$$\\text{Error} = \\frac{1}{N}\\sum_i^N \\left(\\sin(x_i) + \\varepsilon - f(x_i)\\right)^2$$"
      ]
    },
    {
      "cell_type": "code",
      "metadata": {
        "id": "8QSqbjOt3i46"
      },
      "source": [
        "MSE = nn.MSELoss()\n",
        "opt = torch.optim.Adam(model.parameters(), lr=0.005)"
      ],
      "execution_count": 6,
      "outputs": []
    },
    {
      "cell_type": "markdown",
      "metadata": {
        "id": "SyaVntL-3i47"
      },
      "source": [
        "The train loop constists of: computing loss, grad, making a step to the optimum."
      ]
    },
    {
      "cell_type": "code",
      "metadata": {
        "id": "DKGdFHBw3i48",
        "outputId": "b8feb082-9d28-43a2-9021-8385c03ae178",
        "colab": {
          "base_uri": "https://localhost:8080/",
          "height": 281
        }
      },
      "source": [
        "n_epochs = 300\n",
        "for i in range(n_epochs):\n",
        "    \n",
        "    y_pred = model.forward(X_tensor)\n",
        "    loss = MSE(y_pred, y_tensor)\n",
        "    \n",
        "    opt.zero_grad()\n",
        "    loss.backward()\n",
        "    opt.step()\n",
        "    \n",
        "    plt.scatter(X, y, s=3)\n",
        "    plt.plot(X, y_pred.detach().numpy(), linewidth=2, c='tab:orange')\n",
        "    plt.title('Epoch: {}/{}, Loss: {:.4f}'.format(i+1, n_epochs, loss.item()))\n",
        "    plt.ylim(-1.5, 1.5)\n",
        "    plt.show()\n",
        "    clear_output(wait=True)"
      ],
      "execution_count": 7,
      "outputs": [
        {
          "output_type": "display_data",
          "data": {
            "image/png": "[encoded data removed]",
            "text/plain": [
              "<Figure size 432x288 with 1 Axes>"
            ]
          },
          "metadata": {
            "tags": [],
            "needs_background": "light"
          }
        }
      ]
    },
    {
      "cell_type": "markdown",
      "metadata": {
        "id": "eIqGN7OI3i48"
      },
      "source": [
        "### Task 1. Graph convolutional network (1 point)\n",
        "\n",
        "In the task, we will train the Graph Convolutional Network (GCN) model to predict the node label. In the cora dataset, to predict the category of the paper. Let us build the cora dataset."
      ]
    },
    {
      "cell_type": "code",
      "metadata": {
        "id": "Jx01qaap3i49",
        "outputId": "b964a973-ab28-4d3a-f0ff-f18c900e06a0",
        "colab": {
          "base_uri": "https://localhost:8080/"
        }
      },
      "source": [
        "data = CoraGraphDataset()"
      ],
      "execution_count": 8,
      "outputs": [
        {
          "output_type": "stream",
          "text": [
            "Downloading /root/.dgl/cora_v2.zip from https://data.dgl.ai/dataset/cora_v2.zip...\n",
            "Extracting file to /root/.dgl/cora_v2\n",
            "Finished data loading and preprocessing.\n",
            "  NumNodes: 2708\n",
            "  NumEdges: 10556\n",
            "  NumFeats: 1433\n",
            "  NumClasses: 7\n",
            "  NumTrainingSamples: 140\n",
            "  NumValidationSamples: 500\n",
            "  NumTestSamples: 1000\n",
            "Done saving data into cached files.\n"
          ],
          "name": "stdout"
        }
      ]
    },
    {
      "cell_type": "code",
      "metadata": {
        "id": "gCyHeO9_3i4-",
        "outputId": "b1ee0da8-58c6-4d12-c056-13ab0a4ab40e",
        "colab": {
          "base_uri": "https://localhost:8080/"
        }
      },
      "source": [
        "G = data[0]\n",
        "type(G)"
      ],
      "execution_count": 9,
      "outputs": [
        {
          "output_type": "execute_result",
          "data": {
            "text/plain": [
              "dgl.heterograph.DGLHeteroGraph"
            ]
          },
          "metadata": {
            "tags": []
          },
          "execution_count": 9
        }
      ]
    },
    {
      "cell_type": "markdown",
      "metadata": {
        "id": "j4IRC0ru3i4-"
      },
      "source": [
        "Here is an one-hot encoded feature matrix"
      ]
    },
    {
      "cell_type": "code",
      "metadata": {
        "id": "QJZGTzlt3i4_",
        "outputId": "7f6cb316-a58f-4584-9501-c9fb7b63114a",
        "colab": {
          "base_uri": "https://localhost:8080/"
        }
      },
      "source": [
        "features = G.ndata['feat']\n",
        "features.shape"
      ],
      "execution_count": 10,
      "outputs": [
        {
          "output_type": "execute_result",
          "data": {
            "text/plain": [
              "torch.Size([2708, 1433])"
            ]
          },
          "metadata": {
            "tags": []
          },
          "execution_count": 10
        }
      ]
    },
    {
      "cell_type": "code",
      "metadata": {
        "id": "0bIlVnR03i5A",
        "outputId": "1dfb22f8-470b-46e9-df99-15e604642822",
        "colab": {
          "base_uri": "https://localhost:8080/"
        }
      },
      "source": [
        "features"
      ],
      "execution_count": 11,
      "outputs": [
        {
          "output_type": "execute_result",
          "data": {
            "text/plain": [
              "tensor([[0., 0., 0.,  ..., 0., 0., 0.],\n",
              "        [0., 0., 0.,  ..., 0., 0., 0.],\n",
              "        [0., 0., 0.,  ..., 0., 0., 0.],\n",
              "        ...,\n",
              "        [0., 0., 0.,  ..., 0., 0., 0.],\n",
              "        [0., 0., 0.,  ..., 0., 0., 0.],\n",
              "        [0., 0., 0.,  ..., 0., 0., 0.]])"
            ]
          },
          "metadata": {
            "tags": []
          },
          "execution_count": 11
        }
      ]
    },
    {
      "cell_type": "markdown",
      "metadata": {
        "id": "YoNiwQja3i5A"
      },
      "source": [
        "And labels of categories."
      ]
    },
    {
      "cell_type": "code",
      "metadata": {
        "id": "dUe7moEB3i5B",
        "outputId": "91bb18f7-2066-4d61-d377-b1cecdd0ec23",
        "colab": {
          "base_uri": "https://localhost:8080/"
        }
      },
      "source": [
        "labels = G.ndata['label']\n",
        "labels"
      ],
      "execution_count": 12,
      "outputs": [
        {
          "output_type": "execute_result",
          "data": {
            "text/plain": [
              "tensor([3, 4, 4,  ..., 3, 3, 3])"
            ]
          },
          "metadata": {
            "tags": []
          },
          "execution_count": 12
        }
      ]
    },
    {
      "cell_type": "markdown",
      "metadata": {
        "id": "nU5rb2zk3i5C"
      },
      "source": [
        "Train and test masks are tensors with boolean values that define which nodes are train and test."
      ]
    },
    {
      "cell_type": "code",
      "metadata": {
        "id": "JPWZd18L3i5C",
        "outputId": "18326a87-fd0f-41e4-9eba-47fdb65e1d1e",
        "colab": {
          "base_uri": "https://localhost:8080/"
        }
      },
      "source": [
        "train_mask = G.ndata['train_mask']\n",
        "train_mask"
      ],
      "execution_count": 13,
      "outputs": [
        {
          "output_type": "execute_result",
          "data": {
            "text/plain": [
              "tensor([ True,  True,  True,  ..., False, False, False])"
            ]
          },
          "metadata": {
            "tags": []
          },
          "execution_count": 13
        }
      ]
    },
    {
      "cell_type": "code",
      "metadata": {
        "id": "yxSPoiAi3i5D",
        "outputId": "31203b85-7309-4039-ad16-eb196e16bf43",
        "colab": {
          "base_uri": "https://localhost:8080/"
        }
      },
      "source": [
        "test_mask = G.ndata['test_mask']\n",
        "test_mask"
      ],
      "execution_count": 14,
      "outputs": [
        {
          "output_type": "execute_result",
          "data": {
            "text/plain": [
              "tensor([False, False, False,  ...,  True,  True,  True])"
            ]
          },
          "metadata": {
            "tags": []
          },
          "execution_count": 14
        }
      ]
    },
    {
      "cell_type": "markdown",
      "metadata": {
        "id": "XidqMpzd3i5D"
      },
      "source": [
        "Zero in-degree nodes will lead to invalid output value. This is because no message will be passed to those nodes, the aggregation function will be appied on empty input. A common practice to avoid this is to add a self-loop for each node in the graph."
      ]
    },
    {
      "cell_type": "code",
      "metadata": {
        "id": "9TlntIht3i5E",
        "outputId": "3377358f-08cc-49fc-f503-f0487ad3c153",
        "colab": {
          "base_uri": "https://localhost:8080/"
        }
      },
      "source": [
        "G = dgl.add_self_loop(data[0])\n",
        "G.adjacency_matrix().to_dense()[0, 0]"
      ],
      "execution_count": 15,
      "outputs": [
        {
          "output_type": "execute_result",
          "data": {
            "text/plain": [
              "tensor(1.)"
            ]
          },
          "metadata": {
            "tags": []
          },
          "execution_count": 15
        }
      ]
    },
    {
      "cell_type": "markdown",
      "metadata": {
        "id": "enZIgMNG3i5F"
      },
      "source": [
        "Graph convolution mathematically is defined as follows:\n",
        "\n",
        "$$h_i^{l+1} = \\sigma\\left(b^{l} + \\sum_{j\\in\\mathcal{N}(i)}\\frac{1}{c_{ij}}h_j^{l}W^{l}\\right)$$\n",
        "\n",
        "where $\\mathcal{N}(i)$ is the set of neighbors of node $i$,$c_{ij}$ is the product of the square root of node degrees (i.e.,  $c_{ij} = \\sqrt{|\\mathcal{N}(i)|}\\sqrt{|\\mathcal{N}(j)|}$), and $\\sigma$ is an activation function.\n",
        "\n",
        "\n",
        "The `GCNLayer` works as follows:\n",
        "\n",
        "1. Apply linear layer to the hidden state\n",
        "2. Multiply the result by the normalization `self.norm`\n",
        "3. Aggregate data over neighbourhood multiplying adjacency matrix by the result\n",
        "4. Multiply the result by the normalization `self.norm`\n",
        "5. Return the result"
      ]
    },
    {
      "cell_type": "code",
      "metadata": {
        "deletable": false,
        "nbgrader": {
          "cell_type": "code",
          "checksum": "292e0296612d36398c832f4e0f0127c5",
          "grade": false,
          "grade_id": "cell-49c0a67459fef8d6",
          "locked": false,
          "schema_version": 3,
          "solution": true,
          "task": false
        },
        "id": "PmfYkLEi3i5F"
      },
      "source": [
        "class GCNLayer(nn.Module):\n",
        "    def __init__(self,\n",
        "                 g: nx.Graph,\n",
        "                 in_feats: int,\n",
        "                 out_feats: int,\n",
        "                 dropout: float = None):\n",
        "        super(GCNLayer, self).__init__()\n",
        "        adj = nx.to_numpy_array(g)\n",
        "        self.adj = torch.FloatTensor(adj)\n",
        "        norm = 1 / adj.sum(axis=0)**(1/2)\n",
        "        self.norm = torch.FloatTensor(norm)[:, None]\n",
        "        self.linear = nn.Linear(in_feats, out_feats)\n",
        "        if dropout:\n",
        "            self.dropout = nn.Dropout(p=dropout)\n",
        "        else:\n",
        "            self.dropout = 0.\n",
        "\n",
        "    def forward(self, h):\n",
        "        if self.dropout and self.training:\n",
        "            h = self.dropout(h)\n",
        "        # YOUR CODE HERE\n",
        "        # raise NotImplementedError()\n",
        "        return self.norm * (self.adj @ (self.linear(h) * self.norm))"
      ],
      "execution_count": 16,
      "outputs": []
    },
    {
      "cell_type": "code",
      "metadata": {
        "deletable": false,
        "editable": false,
        "nbgrader": {
          "cell_type": "code",
          "checksum": "5588b99536f5b879aae2e80e339e6cba",
          "grade": true,
          "grade_id": "cell-3773092e16e3398b",
          "locked": true,
          "points": 0.2,
          "schema_version": 3,
          "solution": false,
          "task": false
        },
        "id": "vJKG0iIY3i5G"
      },
      "source": [
        "layer = GCNLayer(G.to_networkx(), in_feats=100, out_feats=10, dropout=0.1)\n",
        "with torch.no_grad():\n",
        "    assert layer(torch.randn(100)).shape == (2708, 10)"
      ],
      "execution_count": 17,
      "outputs": []
    },
    {
      "cell_type": "markdown",
      "metadata": {
        "id": "Yt7gywei3i5H"
      },
      "source": [
        "Complete the class `GCN`. Use `GCNLayer` layers with sizes $1433 \\to 16 \\to 7$. Here is the zero dropout in the first layer, and the given dropout in the second one. Use the `F.relu` activation after the first layer."
      ]
    },
    {
      "cell_type": "code",
      "metadata": {
        "deletable": false,
        "nbgrader": {
          "cell_type": "code",
          "checksum": "a1a5b010d9f3dbdb30fb4609a01d5e0d",
          "grade": false,
          "grade_id": "cell-5e0c138f5ccaea0e",
          "locked": false,
          "schema_version": 3,
          "solution": true,
          "task": false
        },
        "id": "RJsp03Pe3i5I"
      },
      "source": [
        "class GCN(nn.Module):\n",
        "    def __init__(self, g, dropout):\n",
        "        super(GCN, self).__init__()\n",
        "        # YOUR CODE HERE\n",
        "        #raise NotImplementedError()\n",
        "        self.conv1 = GCNLayer(g, in_feats=1433, out_feats=16, dropout=0)\n",
        "        self.conv2 = GCNLayer(g, in_feats=16, out_feats=7, dropout=dropout)\n",
        "\n",
        "    def forward(self, features):\n",
        "        # YOUR CODE HERE\n",
        "        # raise NotImplementedError()\n",
        "        out = self.conv1(features)\n",
        "        out = torch.relu(out)\n",
        "        out = self.conv2(out)\n",
        "        \n",
        "        return out"
      ],
      "execution_count": 18,
      "outputs": []
    },
    {
      "cell_type": "code",
      "metadata": {
        "deletable": false,
        "editable": false,
        "nbgrader": {
          "cell_type": "code",
          "checksum": "97fa746d13f86782e184ce5c10a2ab43",
          "grade": true,
          "grade_id": "cell-fe037acfca3092bc",
          "locked": true,
          "points": 0.3,
          "schema_version": 3,
          "solution": false,
          "task": false
        },
        "id": "v-vBV0Pf3i5K"
      },
      "source": [
        "model = GCN(G.to_networkx(), dropout=0.1)\n",
        "assert adler32(str(model).encode()) == 4004464339\n",
        "with torch.no_grad():\n",
        "    assert model(torch.randn(1433)).shape == (2708, 7)"
      ],
      "execution_count": 19,
      "outputs": []
    },
    {
      "cell_type": "markdown",
      "metadata": {
        "id": "_iBE88v43i5L"
      },
      "source": [
        "For classification tasks we will use `CrossEntropy` loss. Change an optimizer if you wish."
      ]
    },
    {
      "cell_type": "code",
      "metadata": {
        "id": "Gc4TmNbL3i5M"
      },
      "source": [
        "CrossEntropy = nn.CrossEntropyLoss()\n",
        "opt = torch.optim.Adam(model.parameters(), lr=0.01)"
      ],
      "execution_count": 20,
      "outputs": []
    },
    {
      "cell_type": "markdown",
      "metadata": {
        "id": "X-W6ccVh3i5N"
      },
      "source": [
        "Complete the train loop. To speed up calculation test loss, use `torch.no_grad()`"
      ]
    },
    {
      "cell_type": "code",
      "metadata": {
        "deletable": false,
        "nbgrader": {
          "cell_type": "code",
          "checksum": "1af8c71a01b3ffc9d764764eefa90fed",
          "grade": false,
          "grade_id": "cell-859836ad344792e3",
          "locked": false,
          "schema_version": 3,
          "solution": true,
          "task": false
        },
        "id": "Mk1jVhk53i5Q",
        "outputId": "0bb57c16-da30-44a4-c504-bf12b57b8f43",
        "colab": {
          "base_uri": "https://localhost:8080/",
          "height": 281
        }
      },
      "source": [
        "n_epochs = 200\n",
        "log = []\n",
        "for i in range(n_epochs):\n",
        "    \n",
        "    # YOUR CODE HERE\n",
        "    # raise NotImplementedError()\n",
        "    \n",
        "    #train_loss = <YOUR CODE>\n",
        "    #test_loss = <YOUR CODE>\n",
        "    logits = model(features)\n",
        "    train_loss = CrossEntropy(\n",
        "        logits[train_mask],\n",
        "        labels[train_mask],\n",
        "    )\n",
        "    \n",
        "    opt.zero_grad()\n",
        "    train_loss.backward()\n",
        "    opt.step()\n",
        "    \n",
        "    with torch.no_grad():\n",
        "        test_loss = CrossEntropy(\n",
        "            logits[test_mask],\n",
        "            labels[test_mask],\n",
        "        )\n",
        "    \n",
        "    log.append([train_loss, test_loss])\n",
        "    \n",
        "    plt.plot(np.array(log))\n",
        "    plt.title('Epoch: {}/{}'.format(i+1, n_epochs))\n",
        "    plt.legend(['train', 'test'])\n",
        "    plt.show()\n",
        "    clear_output(wait=True)"
      ],
      "execution_count": 24,
      "outputs": [
        {
          "output_type": "display_data",
          "data": {
            "image/png": "[encoded data removed]",
            "text/plain": [
              "<Figure size 432x288 with 1 Axes>"
            ]
          },
          "metadata": {
            "tags": [],
            "needs_background": "light"
          }
        }
      ]
    },
    {
      "cell_type": "code",
      "metadata": {
        "deletable": false,
        "editable": false,
        "nbgrader": {
          "cell_type": "code",
          "checksum": "ccb2481e6102d29afe739d16de23c39f",
          "grade": true,
          "grade_id": "cell-0dbd2da971a339fe",
          "locked": true,
          "points": 0.5,
          "schema_version": 3,
          "solution": false,
          "task": false
        },
        "id": "s6Emgd923i5R",
        "outputId": "7f639c2e-41d4-4ffe-8e37-e3cbf87dce5e",
        "colab": {
          "base_uri": "https://localhost:8080/"
        }
      },
      "source": [
        "model.eval()\n",
        "logits = model.forward(features)\n",
        "y_pred = torch.argmax(logits[test_mask], 1)\n",
        "score = balanced_accuracy_score(labels[test_mask], y_pred)\n",
        "assert score > 0.75\n",
        "print('Balanced accuracy: {:.2f}'.format(score))"
      ],
      "execution_count": 25,
      "outputs": [
        {
          "output_type": "stream",
          "text": [
            "Balanced accuracy: 0.80\n"
          ],
          "name": "stdout"
        }
      ]
    },
    {
      "cell_type": "markdown",
      "metadata": {
        "id": "6vzCRpRG3i5S"
      },
      "source": [
        "### Task 2. Graph autoencoder (2 points)\n",
        "\n",
        "In the previous task, we have trained our model with supervised loss in the node classification task.\n",
        "\n",
        "One can train GNN in unsupervised fashion. To do so we can state our problem as a graph autoencoder. We will train embeddings in the way to reconstruct adjacency matrix.\n",
        "\n",
        "We will decode our adjacency matrix with `InnerProductDecoder` class.\n",
        "\n",
        "You need to implement `forward` function. It works as follows:\n",
        "\n",
        "1. Apply dropout layer if dropout rate > 0 and not None and we are in train mode.\n",
        "2. Multiply embeddings matrix and transposed embedding matrix\n",
        "3. Apply activation if it is not None"
      ]
    },
    {
      "cell_type": "code",
      "metadata": {
        "deletable": false,
        "nbgrader": {
          "cell_type": "code",
          "checksum": "e41e8f0e3a45d36ed59274a66c229085",
          "grade": false,
          "grade_id": "cell-31af15ac93053cc6",
          "locked": false,
          "schema_version": 3,
          "solution": true,
          "task": false
        },
        "id": "aithGiIk3i5S"
      },
      "source": [
        "class InnerProductDecoder(nn.Module):\n",
        "    def __init__(self, activation=torch.sigmoid, dropout=0.1):\n",
        "        super(InnerProductDecoder, self).__init__()\n",
        "        self.dropout = dropout\n",
        "        self.activation = activation\n",
        "    \n",
        "    def forward(self, h):\n",
        "        # YOUR CODE HERE\n",
        "        # raise NotImplementedError()\n",
        "        if self.dropout is not None:\n",
        "            h = nn.functional.dropout(h, p=self.dropout)\n",
        "        \n",
        "        h = h @ h.T\n",
        "        \n",
        "        if self.activation is not None:\n",
        "            h = self.activation(h)\n",
        "\n",
        "        return h"
      ],
      "execution_count": 26,
      "outputs": []
    },
    {
      "cell_type": "code",
      "metadata": {
        "deletable": false,
        "editable": false,
        "nbgrader": {
          "cell_type": "code",
          "checksum": "f049476539ac5d2f0441973a8901eb14",
          "grade": true,
          "grade_id": "cell-5bd597fc40f459f5",
          "locked": true,
          "points": 0.5,
          "schema_version": 3,
          "solution": false,
          "task": false
        },
        "id": "h7i6-HhY3i5T"
      },
      "source": [
        "decoder = InnerProductDecoder(torch.sigmoid, dropout=None)\n",
        "adj = decoder(torch.Tensor(np.arange(10).reshape(5, 2)))\n",
        "assert round(float(adj.numpy()[0, 0]), 4) == 0.7311"
      ],
      "execution_count": 27,
      "outputs": []
    },
    {
      "cell_type": "markdown",
      "metadata": {
        "id": "NavwSFvN3i5T"
      },
      "source": [
        "`ReconstructionLoss` function takes dgl.Graph as a parameter. After initialization, it should extract adjacency from the graph as a dense tensor, and calculate `pos_weight` as $(N^2 - E) / E$, where $N$ is a number of nodes and $E$ is a number of edges.\n",
        "\n",
        "Implement `__call__` function that calculates `F.binary_cross_entropy_with_logits` between predicted_adjacency and real adjacency of a graph with `pos_weight`.\n",
        "\n",
        "*Hint: to obtain dense adjacency matrix, use `g.adjacency_matrix().to_dense()`*"
      ]
    },
    {
      "cell_type": "code",
      "metadata": {
        "deletable": false,
        "nbgrader": {
          "cell_type": "code",
          "checksum": "c4983e4aeb2e2ca974d9deb827250bda",
          "grade": false,
          "grade_id": "cell-f21ed6c1f82b2b7b",
          "locked": false,
          "schema_version": 3,
          "solution": true,
          "task": false
        },
        "id": "Evkladn73i5U"
      },
      "source": [
        "class ReconstructionLoss:\n",
        "    def __init__(self, g):\n",
        "        # YOUR CODE HERE\n",
        "        # raise NotImplementedError()\n",
        "        self.adj = g.adjacency_matrix().to_dense()\n",
        "        n_nodes = g.num_nodes()\n",
        "        n_edges = g.num_edges()\n",
        "        self.pos_weight = (n_nodes ** 2 - n_edges) / n_edges\n",
        "        self.pos_weight = torch.tensor(self.pos_weight)\n",
        "    \n",
        "    def __call__(self, predicted_adjacency):\n",
        "        # YOUR CODE HERE\n",
        "        # raise NotImplementedError()\n",
        "        loss = F.binary_cross_entropy_with_logits(\n",
        "            predicted_adjacency,\n",
        "            self.adj,\n",
        "            pos_weight=self.pos_weight,\n",
        "        )\n",
        "        \n",
        "        return loss"
      ],
      "execution_count": 28,
      "outputs": []
    },
    {
      "cell_type": "code",
      "metadata": {
        "deletable": false,
        "editable": false,
        "nbgrader": {
          "cell_type": "code",
          "checksum": "f1d94ec53bff65852297ad8a636f956e",
          "grade": true,
          "grade_id": "cell-dc7a5b14910f1b1b",
          "locked": true,
          "points": 0.5,
          "schema_version": 3,
          "solution": false,
          "task": false
        },
        "id": "GCJ9galb3i5V"
      },
      "source": [
        "rec_loss = ReconstructionLoss(G)\n",
        "assert round(rec_loss(G.adjacency_matrix().to_dense()).item(), 3) == 1.005"
      ],
      "execution_count": 29,
      "outputs": []
    },
    {
      "cell_type": "markdown",
      "metadata": {
        "id": "9y2KddGZ3i5V"
      },
      "source": [
        "Complete the train loop so that node embeddings obtained from the GCN model are fed to the decoder, reconstruction loss of a predicted adjacency matrix is computed and then an optimization step is performed."
      ]
    },
    {
      "cell_type": "code",
      "metadata": {
        "deletable": false,
        "nbgrader": {
          "cell_type": "code",
          "checksum": "80c7511c786db28289a9735042a989b0",
          "grade": false,
          "grade_id": "cell-ab892da4f2b04e92",
          "locked": false,
          "schema_version": 3,
          "solution": true,
          "task": false
        },
        "id": "vGVj_1P43i5W",
        "outputId": "a543aa42-48be-4edb-8feb-4ed71c10dc75",
        "colab": {
          "base_uri": "https://localhost:8080/",
          "height": 281
        }
      },
      "source": [
        "n_epochs = 200\n",
        "\n",
        "log = []\n",
        "\n",
        "model = nn.Sequential(\n",
        "    GCNLayer(G.to_networkx(), 1433, 16, 0.1),\n",
        "    nn.ReLU(),\n",
        "    GCNLayer(G.to_networkx(), 16, 16, 0.5),\n",
        ")\n",
        "decoder = InnerProductDecoder()\n",
        "rec_loss = ReconstructionLoss(G)\n",
        "opt = torch.optim.Adam(model.parameters(), lr=0.05)\n",
        "\n",
        "for i in range(n_epochs):\n",
        "    \n",
        "    # YOUR CODE HERE\n",
        "    # raise NotImplementedError()\n",
        "    \n",
        "    #train_loss = <YOUR CODE>\n",
        "    logits = model(features)\n",
        "    train_loss = rec_loss(decoder(logits))\n",
        "    \n",
        "    opt.zero_grad()\n",
        "    train_loss.backward()\n",
        "    opt.step()\n",
        "    \n",
        "    log.append([train_loss])\n",
        "    \n",
        "    plt.plot(np.array(log))\n",
        "    plt.title('Epoch: {}/{}'.format(i+1, n_epochs))\n",
        "    plt.legend(['train'])\n",
        "    plt.show()\n",
        "    clear_output(wait=True)"
      ],
      "execution_count": 30,
      "outputs": [
        {
          "output_type": "display_data",
          "data": {
            "image/png": "[encoded data removed]",
            "text/plain": [
              "<Figure size 432x288 with 1 Axes>"
            ]
          },
          "metadata": {
            "tags": [],
            "needs_background": "light"
          }
        }
      ]
    },
    {
      "cell_type": "markdown",
      "metadata": {
        "id": "91kCqGxD3i5W"
      },
      "source": [
        "Now we will validate how unsupervised embeddings will work for node classification task"
      ]
    },
    {
      "cell_type": "code",
      "metadata": {
        "deletable": false,
        "editable": false,
        "nbgrader": {
          "cell_type": "code",
          "checksum": "0d101c92e14f577429903ce014a8b727",
          "grade": true,
          "grade_id": "cell-08af8fff077a7121",
          "locked": true,
          "points": 1,
          "schema_version": 3,
          "solution": false,
          "task": false
        },
        "id": "GBB-y5lC3i5Z",
        "outputId": "d562e8b3-1b95-4585-a644-0ff2a2ee581a",
        "colab": {
          "base_uri": "https://localhost:8080/"
        }
      },
      "source": [
        "from sklearn.linear_model import LogisticRegression\n",
        "\n",
        "model.eval()\n",
        "emb = model.forward(features).data.numpy()\n",
        "labs = labels.numpy()\n",
        "\n",
        "lr = LogisticRegression(max_iter=1000)\n",
        "lr.fit(emb[train_mask], labs[train_mask])\n",
        "\n",
        "y_true = labs[test_mask]\n",
        "y_pred = lr.predict(emb[test_mask])\n",
        "score = balanced_accuracy_score(y_true, y_pred)\n",
        "assert score > 0.4\n",
        "print('Balanced accuracy: {:.2f}'.format(score))"
      ],
      "execution_count": 31,
      "outputs": [
        {
          "output_type": "stream",
          "text": [
            "Balanced accuracy: 0.49\n"
          ],
          "name": "stdout"
        }
      ]
    },
    {
      "cell_type": "markdown",
      "metadata": {
        "id": "YjtHPGtM3i5b"
      },
      "source": [
        "### Task 3. Graph attention network (3 point)\n",
        "\n",
        "Let us apply Graph Attention Network over an input signal.\n",
        "\n",
        "$$h_i^{(l+1)} = \\sum_{j\\in \\mathcal{N}(i)} \\alpha_{i,j} W^{(l)} h_j^{(l)}$$\n",
        "\n",
        "where $\\alpha_{ij}$ is the attention score bewteen node $i$ and node $j$:\n",
        "\n",
        "$$\\alpha_{ij}^{l} = \\text{Softmax}_{i} (e_{ij}^{l})$$\n",
        "\n",
        "$$e_{ij}^{l} = \\text{LeakyReLU}\\left(\\vec{a}^T [W h_{i} \\| W h_{j}]\\right)$$"
      ]
    },
    {
      "cell_type": "code",
      "metadata": {
        "id": "PZ-42CRL3i5b"
      },
      "source": [
        "data = CoraGraphDataset()\n",
        "G = data[0]\n",
        "G = dgl.add_self_loop(G)\n",
        "features = G.ndata['feat']\n",
        "labels = G.ndata['label']\n",
        "train_mask = G.ndata['train_mask']\n",
        "test_mask = G.ndata['test_mask']"
      ],
      "execution_count": null,
      "outputs": []
    },
    {
      "cell_type": "markdown",
      "metadata": {
        "id": "L7Zf4tI03i5c"
      },
      "source": [
        "Complete a class `GAT`. Use `GATConv` layers:\n",
        "`GATConv(1433, 8, num_heads=8)` $\\to$ `GATConv(8*8, 7, num_heads=1)`\n",
        "\n",
        "In `forward` use \n",
        "* `tensor.view(-1, m * n)` to reshape, where `m` is the number of heads, `n` is the number of output dimensions\n",
        "* `F.elu` activation after reshape\n",
        "* `tensor.squeeze` to decrease shape `(n_features, 1, out_dim) -> (n_features, out_dim)`"
      ]
    },
    {
      "cell_type": "code",
      "metadata": {
        "deletable": false,
        "nbgrader": {
          "cell_type": "code",
          "checksum": "cdc8345eb40be185359aeb01fff87fde",
          "grade": false,
          "grade_id": "cell-2ac8340166410ded",
          "locked": false,
          "schema_version": 3,
          "solution": true,
          "task": false
        },
        "id": "_FWF8VII3i5d"
      },
      "source": [
        "class GAT(nn.Module):\n",
        "    def __init__(self):\n",
        "        super(GAT, self).__init__()\n",
        "        #self.conv1 = <YOUR CODE>\n",
        "        #self.conv2 = <YOUR CODE>\n",
        "        # YOUR CODE HERE\n",
        "        raise NotImplementedError()\n",
        "\n",
        "    def forward(self, G, features):\n",
        "        # YOUR CODE HERE\n",
        "        raise NotImplementedError()"
      ],
      "execution_count": null,
      "outputs": []
    },
    {
      "cell_type": "code",
      "metadata": {
        "deletable": false,
        "editable": false,
        "nbgrader": {
          "cell_type": "code",
          "checksum": "a7cf6488822a1295f5f402e80ca25a0c",
          "grade": true,
          "grade_id": "cell-8b1838d547caf32d",
          "locked": true,
          "points": 1,
          "schema_version": 3,
          "solution": false,
          "task": false
        },
        "id": "BWmLZHy23i5e"
      },
      "source": [
        "model = GAT()\n",
        "assert str(model) == 'GAT(\\n  (conv1): GATConv(\\n    (fc): Linear(in_features=1433, out_features=64, bias=False)\\n    (feat_drop): Dropout(p=0.0, inplace=False)\\n    (attn_drop): Dropout(p=0.0, inplace=False)\\n    (leaky_relu): LeakyReLU(negative_slope=0.2)\\n  )\\n  (conv2): GATConv(\\n    (fc): Linear(in_features=64, out_features=7, bias=False)\\n    (feat_drop): Dropout(p=0.0, inplace=False)\\n    (attn_drop): Dropout(p=0.0, inplace=False)\\n    (leaky_relu): LeakyReLU(negative_slope=0.2)\\n  )\\n)'\n"
      ],
      "execution_count": null,
      "outputs": []
    },
    {
      "cell_type": "code",
      "metadata": {
        "id": "luShejap3i5e"
      },
      "source": [
        "CrossEntropy = nn.CrossEntropyLoss()\n",
        "opt = torch.optim.Adam(model.parameters(), \n",
        "                       lr=0.005, weight_decay=0.0005)"
      ],
      "execution_count": null,
      "outputs": []
    },
    {
      "cell_type": "markdown",
      "metadata": {
        "id": "TZ6LPPvF3i5f"
      },
      "source": [
        "Complete the train loop. To speed up calculation test loss, use `torch.no_grad()`"
      ]
    },
    {
      "cell_type": "code",
      "metadata": {
        "deletable": false,
        "nbgrader": {
          "cell_type": "code",
          "checksum": "2d409df1ea0e998208b32f57cfb9b814",
          "grade": false,
          "grade_id": "cell-8d019b9371d11f59",
          "locked": false,
          "schema_version": 3,
          "solution": true,
          "task": false
        },
        "id": "p4-eApUI3i5f"
      },
      "source": [
        "n_epochs = 150\n",
        "\n",
        "log = []\n",
        "for i in range(n_epochs):\n",
        "    \n",
        "    # YOUR CODE HERE\n",
        "    raise NotImplementedError()\n",
        "    \n",
        "    #train_loss = <YOUR CODE>\n",
        "    #test_loss = <YOUR CODE>\n",
        "    \n",
        "    log.append([train_loss, test_loss])\n",
        "    \n",
        "    plt.plot(np.array(log))\n",
        "    plt.title('Epoch: {}/{}'.format(i+1, n_epochs))\n",
        "    plt.legend(['train', 'test'])\n",
        "    plt.show()\n",
        "    clear_output(wait=True)"
      ],
      "execution_count": null,
      "outputs": []
    },
    {
      "cell_type": "code",
      "metadata": {
        "deletable": false,
        "editable": false,
        "nbgrader": {
          "cell_type": "code",
          "checksum": "d3b5d5976d418d83fb7ca869601a8f74",
          "grade": true,
          "grade_id": "cell-f0b5cbfec9b4510d",
          "locked": true,
          "points": 2,
          "schema_version": 3,
          "solution": false,
          "task": false
        },
        "id": "pByqercQ3i5g"
      },
      "source": [
        "logits = model.forward(G, features)\n",
        "y_pred = torch.argmax(logits[test_mask], 1)\n",
        "score = balanced_accuracy_score(labels[test_mask], y_pred)\n",
        "assert score > 0.7\n",
        "print('Balanced accuracy: {:.2f}'.format(score))"
      ],
      "execution_count": null,
      "outputs": []
    },
    {
      "cell_type": "markdown",
      "metadata": {
        "id": "h6VFNR0r3i5g"
      },
      "source": [
        "### Task 4. GraphSAGE (4 points)\n",
        "\n",
        "Consider GraphSAGE, a representation learning technique suitable for dynamic graphs. GraphSAGE is capable of predicting embedding of a new node, without requiring a re-training procedure. To do so, GraphSAGE learns aggregator functions that can induce the embedding of a new node given its features and neighborhood. This is called inductive learning.\n",
        "\n",
        "$$h_{\\mathcal{N}(i)}^{(l+1)} = \\mathrm{aggregate}\\left(\\{h_{j}^{l}, \\forall j \\in \\mathcal{N}(i) \\}\\right)$$\n",
        "$$h_{i}^{(l+1)} = \\sigma \\left(W \\cdot \\text{concat}(h_{i}^{l}, h_{\\mathcal{N}(i)}^{l+1}) \\right)$$\n",
        "$$h_{i}^{(l+1)} = \\mathrm{norm}(h_{i}^{l})$$\n",
        "\n",
        "Aggregator types here can be `mean`, `gcn`, `pool`, `lstm`. Consider GraphSAGE on the Karate Club graph."
      ]
    },
    {
      "cell_type": "code",
      "metadata": {
        "id": "ZpTSf3Cu3i5h"
      },
      "source": [
        "G = nx.karate_club_graph()\n",
        "\n",
        "labels = [1 if i=='Mr. Hi' else 0 for i in nx.get_node_attributes(G, 'club').values()]\n",
        "labels = torch.LongTensor(labels)\n",
        "features = torch.FloatTensor(np.arange(0, 34)[:, None])"
      ],
      "execution_count": null,
      "outputs": []
    },
    {
      "cell_type": "code",
      "metadata": {
        "id": "O5RG19ev3i5h"
      },
      "source": [
        "nx.draw_kamada_kawai(\n",
        "    G, with_labels=True, \n",
        "    node_color=['tab:orange' if i==1 else 'tab:blue' for i in labels], \n",
        "    cmap=plt.cm.tab10)"
      ],
      "execution_count": null,
      "outputs": []
    },
    {
      "cell_type": "markdown",
      "metadata": {
        "id": "NyUtgDWN3i5i"
      },
      "source": [
        "Let us delete the node 31, train a model and then return it and predict its label."
      ]
    },
    {
      "cell_type": "code",
      "metadata": {
        "id": "MWM_8P1f3i5i"
      },
      "source": [
        "idx = np.arange(34)\n",
        "idx = idx[idx != 31]"
      ],
      "execution_count": null,
      "outputs": []
    },
    {
      "cell_type": "markdown",
      "metadata": {
        "id": "ntx_r3bW3i5i"
      },
      "source": [
        "New labels and features"
      ]
    },
    {
      "cell_type": "code",
      "metadata": {
        "id": "HFCOeP5D3i5j"
      },
      "source": [
        "labels = labels[idx]\n",
        "features = features[idx]"
      ],
      "execution_count": null,
      "outputs": []
    },
    {
      "cell_type": "code",
      "metadata": {
        "id": "u3Q1vB6h3i5k"
      },
      "source": [
        "nx.draw_kamada_kawai(\n",
        "    G.subgraph(idx), with_labels=True, \n",
        "    node_color=['tab:orange' if i==1 else 'tab:blue' for i in labels], \n",
        "    cmap=plt.cm.tab10)"
      ],
      "execution_count": null,
      "outputs": []
    },
    {
      "cell_type": "markdown",
      "metadata": {
        "id": "eqAYOe3n3i5l"
      },
      "source": [
        "Let choose test and train nodes"
      ]
    },
    {
      "cell_type": "code",
      "metadata": {
        "id": "QjS6hJ3v3i5l"
      },
      "source": [
        "test_idx = [31, 32, 0, 11, 13, 2, 23, 29, 8]\n",
        "train_idx = list(set(np.arange(33)).difference(test_idx))"
      ],
      "execution_count": null,
      "outputs": []
    },
    {
      "cell_type": "markdown",
      "metadata": {
        "id": "djE81hZ-3i5m"
      },
      "source": [
        "Draw the graph, test nodes are gray."
      ]
    },
    {
      "cell_type": "code",
      "metadata": {
        "id": "dO-SOSIF3i5n"
      },
      "source": [
        "node_color = np.ones((33, 3))\n",
        "node_color[labels == 0] = plt.cm.tab10(0)[:3]\n",
        "node_color[labels == 1] = plt.cm.tab10(1)[:3]\n",
        "node_color[test_idx] = (0.9, 0.9, 0.9)\n",
        "\n",
        "nx.draw_kamada_kawai(G.subgraph(idx), with_labels=True, \n",
        "                     node_color=node_color, cmap=plt.cm.tab10)"
      ],
      "execution_count": null,
      "outputs": []
    },
    {
      "cell_type": "markdown",
      "metadata": {
        "id": "Hbq9UV4k3i5o"
      },
      "source": [
        "Build a dgl graph "
      ]
    },
    {
      "cell_type": "code",
      "metadata": {
        "id": "KtLG7NfQ3i5p"
      },
      "source": [
        "initial_graph = dgl.from_networkx(G.subgraph(idx))\n",
        "initial_graph"
      ],
      "execution_count": null,
      "outputs": []
    },
    {
      "cell_type": "markdown",
      "metadata": {
        "id": "afX5mjhX3i5p"
      },
      "source": [
        "Complete a class `SAGE`. Use `SAGEConv` layers with sizes $1 \\to 16 \\to 2$ and `mean` aggregation function. Put `F.relu` activation after the first layer."
      ]
    },
    {
      "cell_type": "code",
      "metadata": {
        "deletable": false,
        "nbgrader": {
          "cell_type": "code",
          "checksum": "9399531298f5c0c2a65de6d6a0a15776",
          "grade": false,
          "grade_id": "cell-c83ca7ab5833bc2a",
          "locked": false,
          "schema_version": 3,
          "solution": true,
          "task": false
        },
        "id": "opBqlqHe3i5q"
      },
      "source": [
        "class SAGE(nn.Module):\n",
        "    def __init__(self):\n",
        "        super().__init__()\n",
        "        #self.conv1 = <YOUR CODE>\n",
        "        #self.conv2 = <YOUR CODE>\n",
        "        # YOUR CODE HERE\n",
        "        raise NotImplementedError()\n",
        "\n",
        "    def forward(self, graph, features):\n",
        "        # YOUR CODE HERE\n",
        "        raise NotImplementedError()"
      ],
      "execution_count": null,
      "outputs": []
    },
    {
      "cell_type": "code",
      "metadata": {
        "deletable": false,
        "editable": false,
        "nbgrader": {
          "cell_type": "code",
          "checksum": "b64d5415e2e58b1bcd0641c27cc528d5",
          "grade": true,
          "grade_id": "cell-a7513e546c544396",
          "locked": true,
          "points": 2,
          "schema_version": 3,
          "solution": false,
          "task": false
        },
        "id": "J463g02K3i5q"
      },
      "source": [
        "model = SAGE()\n",
        "assert str(model) == 'SAGE(\\n  (conv1): SAGEConv(\\n    (feat_drop): Dropout(p=0.0, inplace=False)\\n    (fc_self): Linear(in_features=1, out_features=16, bias=True)\\n    (fc_neigh): Linear(in_features=1, out_features=16, bias=True)\\n  )\\n  (conv2): SAGEConv(\\n    (feat_drop): Dropout(p=0.0, inplace=False)\\n    (fc_self): Linear(in_features=16, out_features=2, bias=True)\\n    (fc_neigh): Linear(in_features=16, out_features=2, bias=True)\\n  )\\n)'"
      ],
      "execution_count": null,
      "outputs": []
    },
    {
      "cell_type": "code",
      "metadata": {
        "id": "hB9Bi-DZ3i5r"
      },
      "source": [
        "CrossEntropy = nn.CrossEntropyLoss()\n",
        "opt = torch.optim.Adam(model.parameters(), lr=0.002)"
      ],
      "execution_count": null,
      "outputs": []
    },
    {
      "cell_type": "code",
      "metadata": {
        "id": "n8zgMkwT3i5r"
      },
      "source": [
        "n_epochs = 150\n",
        "\n",
        "log = []\n",
        "for i in range(n_epochs):\n",
        "    \n",
        "    logits = model.forward(initial_graph, features)\n",
        "    loss = CrossEntropy(logits[train_idx], labels[train_idx])\n",
        "    \n",
        "    opt.zero_grad()\n",
        "    loss.backward()\n",
        "    opt.step()\n",
        "    \n",
        "    with torch.no_grad():\n",
        "        logits = model.forward(initial_graph, features)\n",
        "        test_loss = CrossEntropy(logits[test_idx], labels[test_idx])\n",
        "    \n",
        "    log.append([loss.item(), test_loss.item()])\n",
        "    \n",
        "    plt.figure(figsize=(12, 5))\n",
        "    \n",
        "    plt.subplot(1, 2, 1)\n",
        "    plt.plot(np.array(log))\n",
        "    plt.title('Epoch: {}/{}'.format(i+1, n_epochs))\n",
        "    plt.legend(['train', 'test'])\n",
        "    \n",
        "    y_pred = torch.argmax(logits, 1)\n",
        "    \n",
        "    plt.subplot(1, 2, 2)\n",
        "    nx.draw_kamada_kawai(\n",
        "        G.subgraph(idx), with_labels=True, \n",
        "        node_color=['tab:orange' if i==1 else 'tab:blue' for i in y_pred], \n",
        "        cmap=plt.cm.tab10)\n",
        "    \n",
        "    \n",
        "    plt.show()\n",
        "    clear_output(wait=True)\n"
      ],
      "execution_count": null,
      "outputs": []
    },
    {
      "cell_type": "markdown",
      "metadata": {
        "id": "sY75pFbo3i5s"
      },
      "source": [
        "Let us check that prediction for the node 31 is correct"
      ]
    },
    {
      "cell_type": "code",
      "metadata": {
        "deletable": false,
        "editable": false,
        "nbgrader": {
          "cell_type": "code",
          "checksum": "3dab650bfd86a91be05e721cd00e089e",
          "grade": true,
          "grade_id": "cell-41e44fe2c4bf18a1",
          "locked": true,
          "points": 2,
          "schema_version": 3,
          "solution": false,
          "task": false
        },
        "id": "YDfzC6n_3i5s"
      },
      "source": [
        "graph = dgl.from_networkx(G)\n",
        "labels = [1 if i=='Mr. Hi' else 0 for i in nx.get_node_attributes(G, 'club').values()]\n",
        "labels = torch.LongTensor(labels)\n",
        "features = torch.FloatTensor(np.arange(0, 34)[:, None])\n",
        "predictions = torch.argmax(model(graph, features), 1)\n",
        "assert predictions[31] == labels[31]"
      ],
      "execution_count": null,
      "outputs": []
    },
    {
      "cell_type": "code",
      "metadata": {
        "id": "vRZCJBEl3i5t"
      },
      "source": [
        ""
      ],
      "execution_count": null,
      "outputs": []
    }
  ]
}